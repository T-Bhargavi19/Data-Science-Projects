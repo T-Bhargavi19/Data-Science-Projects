{
 "cells": [
  {
   "cell_type": "markdown",
   "id": "035d20b7-0e03-4151-b496-17b3ee8c0f37",
   "metadata": {},
   "source": [
    "Built and Validated the model to predict 'audience_rating' using Rotten_Tomatoes_Movies Dataset. Demonstrated the working of the pipeline."
   ]
  },
  {
   "cell_type": "markdown",
   "id": "f51690a5-a1f6-4fd6-a37d-d2d02c6f1d3f",
   "metadata": {},
   "source": [
    "# Import Libraries"
   ]
  },
  {
   "cell_type": "code",
   "execution_count": 3,
   "id": "8a16f422-b375-46ac-aa13-d32c7e8e802a",
   "metadata": {},
   "outputs": [],
   "source": [
    "import pandas as pd\n",
    "import numpy as np\n",
    "import seaborn as sns"
   ]
  },
  {
   "cell_type": "code",
   "execution_count": 4,
   "id": "8e9ca9cd-39d2-4b2e-9d54-fb42f4e9595d",
   "metadata": {},
   "outputs": [
    {
     "data": {
      "text/html": [
       "<div>\n",
       "<style scoped>\n",
       "    .dataframe tbody tr th:only-of-type {\n",
       "        vertical-align: middle;\n",
       "    }\n",
       "\n",
       "    .dataframe tbody tr th {\n",
       "        vertical-align: top;\n",
       "    }\n",
       "\n",
       "    .dataframe thead th {\n",
       "        text-align: right;\n",
       "    }\n",
       "</style>\n",
       "<table border=\"1\" class=\"dataframe\">\n",
       "  <thead>\n",
       "    <tr style=\"text-align: right;\">\n",
       "      <th></th>\n",
       "      <th>movie_title</th>\n",
       "      <th>movie_info</th>\n",
       "      <th>critics_consensus</th>\n",
       "      <th>rating</th>\n",
       "      <th>genre</th>\n",
       "      <th>directors</th>\n",
       "      <th>writers</th>\n",
       "      <th>cast</th>\n",
       "      <th>in_theaters_date</th>\n",
       "      <th>on_streaming_date</th>\n",
       "      <th>runtime_in_minutes</th>\n",
       "      <th>studio_name</th>\n",
       "      <th>tomatometer_status</th>\n",
       "      <th>tomatometer_rating</th>\n",
       "      <th>tomatometer_count</th>\n",
       "      <th>audience_rating</th>\n",
       "    </tr>\n",
       "  </thead>\n",
       "  <tbody>\n",
       "    <tr>\n",
       "      <th>0</th>\n",
       "      <td>Percy Jackson &amp; the Olympians: The Lightning T...</td>\n",
       "      <td>A teenager discovers he's the descendant of a ...</td>\n",
       "      <td>Though it may seem like just another Harry Pot...</td>\n",
       "      <td>PG</td>\n",
       "      <td>Action &amp; Adventure, Comedy, Drama, Science Fic...</td>\n",
       "      <td>Chris Columbus</td>\n",
       "      <td>Craig Titley</td>\n",
       "      <td>Logan Lerman, Brandon T. Jackson, Alexandra Da...</td>\n",
       "      <td>2010-02-12</td>\n",
       "      <td>2010-06-29</td>\n",
       "      <td>83.0</td>\n",
       "      <td>20th Century Fox</td>\n",
       "      <td>Rotten</td>\n",
       "      <td>49</td>\n",
       "      <td>144</td>\n",
       "      <td>53.0</td>\n",
       "    </tr>\n",
       "    <tr>\n",
       "      <th>1</th>\n",
       "      <td>Please Give</td>\n",
       "      <td>Kate has a lot on her mind. There's the ethics...</td>\n",
       "      <td>Nicole Holofcener's newest might seem slight i...</td>\n",
       "      <td>R</td>\n",
       "      <td>Comedy</td>\n",
       "      <td>Nicole Holofcener</td>\n",
       "      <td>Nicole Holofcener</td>\n",
       "      <td>Catherine Keener, Amanda Peet, Oliver Platt, R...</td>\n",
       "      <td>2010-04-30</td>\n",
       "      <td>2010-10-19</td>\n",
       "      <td>90.0</td>\n",
       "      <td>Sony Pictures Classics</td>\n",
       "      <td>Certified Fresh</td>\n",
       "      <td>86</td>\n",
       "      <td>140</td>\n",
       "      <td>64.0</td>\n",
       "    </tr>\n",
       "  </tbody>\n",
       "</table>\n",
       "</div>"
      ],
      "text/plain": [
       "                                         movie_title  \\\n",
       "0  Percy Jackson & the Olympians: The Lightning T...   \n",
       "1                                        Please Give   \n",
       "\n",
       "                                          movie_info  \\\n",
       "0  A teenager discovers he's the descendant of a ...   \n",
       "1  Kate has a lot on her mind. There's the ethics...   \n",
       "\n",
       "                                   critics_consensus rating  \\\n",
       "0  Though it may seem like just another Harry Pot...     PG   \n",
       "1  Nicole Holofcener's newest might seem slight i...      R   \n",
       "\n",
       "                                               genre          directors  \\\n",
       "0  Action & Adventure, Comedy, Drama, Science Fic...     Chris Columbus   \n",
       "1                                             Comedy  Nicole Holofcener   \n",
       "\n",
       "             writers                                               cast  \\\n",
       "0       Craig Titley  Logan Lerman, Brandon T. Jackson, Alexandra Da...   \n",
       "1  Nicole Holofcener  Catherine Keener, Amanda Peet, Oliver Platt, R...   \n",
       "\n",
       "  in_theaters_date on_streaming_date  runtime_in_minutes  \\\n",
       "0       2010-02-12        2010-06-29                83.0   \n",
       "1       2010-04-30        2010-10-19                90.0   \n",
       "\n",
       "              studio_name tomatometer_status  tomatometer_rating  \\\n",
       "0        20th Century Fox             Rotten                  49   \n",
       "1  Sony Pictures Classics    Certified Fresh                  86   \n",
       "\n",
       "   tomatometer_count  audience_rating  \n",
       "0                144             53.0  \n",
       "1                140             64.0  "
      ]
     },
     "execution_count": 4,
     "metadata": {},
     "output_type": "execute_result"
    }
   ],
   "source": [
    "dataset=pd.read_excel('Rotten_Tomatoes_Movies3.xls')\n",
    "dataset.head(2)"
   ]
  },
  {
   "cell_type": "code",
   "execution_count": 5,
   "id": "af78704b-5481-4f01-a1b7-b34dbc371ef7",
   "metadata": {},
   "outputs": [
    {
     "data": {
      "text/plain": [
       "(16638, 16)"
      ]
     },
     "execution_count": 5,
     "metadata": {},
     "output_type": "execute_result"
    }
   ],
   "source": [
    "dataset.shape"
   ]
  },
  {
   "cell_type": "markdown",
   "id": "abfd6f97-a738-4fda-9093-566f78fb22f9",
   "metadata": {},
   "source": [
    "# check for missing values"
   ]
  },
  {
   "cell_type": "markdown",
   "id": "55f591a1-7253-409e-846d-5796c68cb3f3",
   "metadata": {},
   "source": [
    "#check for missing values and their count in each column"
   ]
  },
  {
   "cell_type": "code",
   "execution_count": 8,
   "id": "fd8a6790-d6ae-406f-bca0-dfdae32952dc",
   "metadata": {},
   "outputs": [
    {
     "name": "stdout",
     "output_type": "stream",
     "text": [
      "<class 'pandas.core.frame.DataFrame'>\n",
      "RangeIndex: 16638 entries, 0 to 16637\n",
      "Data columns (total 16 columns):\n",
      " #   Column              Non-Null Count  Dtype         \n",
      "---  ------              --------------  -----         \n",
      " 0   movie_title         16638 non-null  object        \n",
      " 1   movie_info          16614 non-null  object        \n",
      " 2   critics_consensus   8309 non-null   object        \n",
      " 3   rating              16638 non-null  object        \n",
      " 4   genre               16621 non-null  object        \n",
      " 5   directors           16524 non-null  object        \n",
      " 6   writers             15289 non-null  object        \n",
      " 7   cast                16354 non-null  object        \n",
      " 8   in_theaters_date    15823 non-null  datetime64[ns]\n",
      " 9   on_streaming_date   16636 non-null  datetime64[ns]\n",
      " 10  runtime_in_minutes  16483 non-null  float64       \n",
      " 11  studio_name         16222 non-null  object        \n",
      " 12  tomatometer_status  16638 non-null  object        \n",
      " 13  tomatometer_rating  16638 non-null  int64         \n",
      " 14  tomatometer_count   16638 non-null  int64         \n",
      " 15  audience_rating     16386 non-null  float64       \n",
      "dtypes: datetime64[ns](2), float64(2), int64(2), object(10)\n",
      "memory usage: 2.0+ MB\n"
     ]
    }
   ],
   "source": [
    "dataset.info()"
   ]
  },
  {
   "cell_type": "code",
   "execution_count": 9,
   "id": "64f814e4-8b70-49b0-9ac9-8dca5087caa6",
   "metadata": {},
   "outputs": [
    {
     "data": {
      "text/plain": [
       "critics_consensus     8329\n",
       "writers               1349\n",
       "in_theaters_date       815\n",
       "studio_name            416\n",
       "cast                   284\n",
       "audience_rating        252\n",
       "runtime_in_minutes     155\n",
       "directors              114\n",
       "movie_info              24\n",
       "genre                   17\n",
       "on_streaming_date        2\n",
       "movie_title              0\n",
       "rating                   0\n",
       "tomatometer_status       0\n",
       "tomatometer_rating       0\n",
       "tomatometer_count        0\n",
       "dtype: int64"
      ]
     },
     "execution_count": 9,
     "metadata": {},
     "output_type": "execute_result"
    }
   ],
   "source": [
    "dataset.isnull().sum().sort_values(ascending=False)"
   ]
  },
  {
   "cell_type": "markdown",
   "id": "ef15dfd1-1d8e-4199-a7fb-f15f480579ac",
   "metadata": {},
   "source": [
    "#Dropping the rows having null value in audience_rating"
   ]
  },
  {
   "cell_type": "code",
   "execution_count": 11,
   "id": "e20636e4-5cb1-4178-b6b3-28bc730b542c",
   "metadata": {},
   "outputs": [],
   "source": [
    "dataset.dropna(subset=['audience_rating'], inplace=True)"
   ]
  },
  {
   "cell_type": "markdown",
   "id": "74835520-1adb-4d8b-8217-6485d61537d5",
   "metadata": {},
   "source": [
    "# check for duplicates"
   ]
  },
  {
   "cell_type": "markdown",
   "id": "2ee129ff-719a-4deb-8ad2-ccf5a01d10c8",
   "metadata": {},
   "source": [
    "#check for duplicates and drop the duplicated row"
   ]
  },
  {
   "cell_type": "code",
   "execution_count": 14,
   "id": "f30f44b2-1afd-409f-95cb-40dfeef26e90",
   "metadata": {},
   "outputs": [
    {
     "data": {
      "text/plain": [
       "1"
      ]
     },
     "execution_count": 14,
     "metadata": {},
     "output_type": "execute_result"
    }
   ],
   "source": [
    "dataset.duplicated().sum()"
   ]
  },
  {
   "cell_type": "code",
   "execution_count": 15,
   "id": "7c0b54e1-e6c8-458a-9fde-a84a54abf224",
   "metadata": {},
   "outputs": [
    {
     "data": {
      "text/html": [
       "<div>\n",
       "<style scoped>\n",
       "    .dataframe tbody tr th:only-of-type {\n",
       "        vertical-align: middle;\n",
       "    }\n",
       "\n",
       "    .dataframe tbody tr th {\n",
       "        vertical-align: top;\n",
       "    }\n",
       "\n",
       "    .dataframe thead th {\n",
       "        text-align: right;\n",
       "    }\n",
       "</style>\n",
       "<table border=\"1\" class=\"dataframe\">\n",
       "  <thead>\n",
       "    <tr style=\"text-align: right;\">\n",
       "      <th></th>\n",
       "      <th>movie_title</th>\n",
       "      <th>movie_info</th>\n",
       "      <th>critics_consensus</th>\n",
       "      <th>rating</th>\n",
       "      <th>genre</th>\n",
       "      <th>directors</th>\n",
       "      <th>writers</th>\n",
       "      <th>cast</th>\n",
       "      <th>in_theaters_date</th>\n",
       "      <th>on_streaming_date</th>\n",
       "      <th>runtime_in_minutes</th>\n",
       "      <th>studio_name</th>\n",
       "      <th>tomatometer_status</th>\n",
       "      <th>tomatometer_rating</th>\n",
       "      <th>tomatometer_count</th>\n",
       "      <th>audience_rating</th>\n",
       "    </tr>\n",
       "  </thead>\n",
       "  <tbody>\n",
       "    <tr>\n",
       "      <th>8496</th>\n",
       "      <td>King Charles III</td>\n",
       "      <td>An adaptation of the Broadway drama about Prin...</td>\n",
       "      <td>NaN</td>\n",
       "      <td>NR</td>\n",
       "      <td>Drama</td>\n",
       "      <td>Rupert Goold</td>\n",
       "      <td>Mike Bartlett</td>\n",
       "      <td>Oliver Chris, Richard Goulding, Charlotte Rile...</td>\n",
       "      <td>2017-05-14</td>\n",
       "      <td>2017-06-27</td>\n",
       "      <td>88.0</td>\n",
       "      <td>NaN</td>\n",
       "      <td>Fresh</td>\n",
       "      <td>100</td>\n",
       "      <td>9</td>\n",
       "      <td>48.0</td>\n",
       "    </tr>\n",
       "  </tbody>\n",
       "</table>\n",
       "</div>"
      ],
      "text/plain": [
       "           movie_title                                         movie_info  \\\n",
       "8496  King Charles III  An adaptation of the Broadway drama about Prin...   \n",
       "\n",
       "     critics_consensus rating  genre     directors        writers  \\\n",
       "8496               NaN     NR  Drama  Rupert Goold  Mike Bartlett   \n",
       "\n",
       "                                                   cast in_theaters_date  \\\n",
       "8496  Oliver Chris, Richard Goulding, Charlotte Rile...       2017-05-14   \n",
       "\n",
       "     on_streaming_date  runtime_in_minutes studio_name tomatometer_status  \\\n",
       "8496        2017-06-27                88.0         NaN              Fresh   \n",
       "\n",
       "      tomatometer_rating  tomatometer_count  audience_rating  \n",
       "8496                 100                  9             48.0  "
      ]
     },
     "execution_count": 15,
     "metadata": {},
     "output_type": "execute_result"
    }
   ],
   "source": [
    "dataset[dataset.duplicated()==True]"
   ]
  },
  {
   "cell_type": "code",
   "execution_count": 16,
   "id": "0702bd47-fe0f-4067-bd80-e5049af3d6a2",
   "metadata": {},
   "outputs": [
    {
     "data": {
      "text/plain": [
       "0"
      ]
     },
     "execution_count": 16,
     "metadata": {},
     "output_type": "execute_result"
    }
   ],
   "source": [
    "dataset.drop_duplicates(inplace=True)\n",
    "dataset.duplicated().sum()"
   ]
  },
  {
   "cell_type": "markdown",
   "id": "beabbbc4-42e9-42ff-b521-00ff9122dd7f",
   "metadata": {},
   "source": [
    "# The Dataset is split into train(97%) and test(3%). Training and validation is done on Train Dataset. The trained models performance is evaluated using Test Dataset."
   ]
  },
  {
   "cell_type": "code",
   "execution_count": 18,
   "id": "99868f05-cc33-4c5a-bc0b-89c0528c6ded",
   "metadata": {},
   "outputs": [
    {
     "data": {
      "text/plain": [
       "15893"
      ]
     },
     "execution_count": 18,
     "metadata": {},
     "output_type": "execute_result"
    }
   ],
   "source": [
    "df=dataset.iloc[:int(0.97*len(dataset)),:]\n",
    "len(df)"
   ]
  },
  {
   "cell_type": "code",
   "execution_count": 19,
   "id": "9711ac2c-917e-43b3-89d6-e3fbbd132631",
   "metadata": {},
   "outputs": [
    {
     "data": {
      "text/plain": [
       "492"
      ]
     },
     "execution_count": 19,
     "metadata": {},
     "output_type": "execute_result"
    }
   ],
   "source": [
    "test_val_df=dataset.iloc[int(0.97*len(dataset)):,:]\n",
    "len(test_val_df)"
   ]
  },
  {
   "cell_type": "markdown",
   "id": "169b85dd-57c3-463a-bcb0-e9430a4d21d4",
   "metadata": {},
   "source": [
    "# Extracting numerical features"
   ]
  },
  {
   "cell_type": "code",
   "execution_count": 21,
   "id": "a28daa3f-dff5-4359-91de-364c6f48886c",
   "metadata": {},
   "outputs": [
    {
     "data": {
      "text/html": [
       "<div>\n",
       "<style scoped>\n",
       "    .dataframe tbody tr th:only-of-type {\n",
       "        vertical-align: middle;\n",
       "    }\n",
       "\n",
       "    .dataframe tbody tr th {\n",
       "        vertical-align: top;\n",
       "    }\n",
       "\n",
       "    .dataframe thead th {\n",
       "        text-align: right;\n",
       "    }\n",
       "</style>\n",
       "<table border=\"1\" class=\"dataframe\">\n",
       "  <thead>\n",
       "    <tr style=\"text-align: right;\">\n",
       "      <th></th>\n",
       "      <th>runtime_in_minutes</th>\n",
       "      <th>tomatometer_rating</th>\n",
       "      <th>tomatometer_count</th>\n",
       "      <th>audience_rating</th>\n",
       "    </tr>\n",
       "  </thead>\n",
       "  <tbody>\n",
       "    <tr>\n",
       "      <th>0</th>\n",
       "      <td>83.0</td>\n",
       "      <td>49</td>\n",
       "      <td>144</td>\n",
       "      <td>53.0</td>\n",
       "    </tr>\n",
       "    <tr>\n",
       "      <th>1</th>\n",
       "      <td>90.0</td>\n",
       "      <td>86</td>\n",
       "      <td>140</td>\n",
       "      <td>64.0</td>\n",
       "    </tr>\n",
       "  </tbody>\n",
       "</table>\n",
       "</div>"
      ],
      "text/plain": [
       "   runtime_in_minutes  tomatometer_rating  tomatometer_count  audience_rating\n",
       "0                83.0                  49                144             53.0\n",
       "1                90.0                  86                140             64.0"
      ]
     },
     "execution_count": 21,
     "metadata": {},
     "output_type": "execute_result"
    }
   ],
   "source": [
    "numerical_features=[feature for feature in df.columns if df[feature].dtype=='float64' or df[feature].dtype=='int64']\n",
    "numerical_features\n",
    "df[numerical_features].head(2)"
   ]
  },
  {
   "cell_type": "markdown",
   "id": "489cccd2-76af-4496-994c-07fd02a5f545",
   "metadata": {},
   "source": [
    "# checking for null in numerical_features"
   ]
  },
  {
   "cell_type": "code",
   "execution_count": 23,
   "id": "f971d3d7-f5c6-4835-89c6-a1ff8dc62267",
   "metadata": {},
   "outputs": [
    {
     "data": {
      "text/plain": [
       "runtime_in_minutes    144\n",
       "tomatometer_rating      0\n",
       "tomatometer_count       0\n",
       "audience_rating         0\n",
       "dtype: int64"
      ]
     },
     "execution_count": 23,
     "metadata": {},
     "output_type": "execute_result"
    }
   ],
   "source": [
    "df[numerical_features].isnull().sum()"
   ]
  },
  {
   "cell_type": "code",
   "execution_count": 24,
   "id": "2d400e34-0571-4cf3-a153-5c2a3185d48e",
   "metadata": {},
   "outputs": [
    {
     "data": {
      "text/plain": [
       "['runtime_in_minutes']"
      ]
     },
     "execution_count": 24,
     "metadata": {},
     "output_type": "execute_result"
    }
   ],
   "source": [
    "nulls=[i for i in df.columns if df[i].isnull().sum()>=1 and (df[i].dtypes=='float64' or df[i].dtype=='int64')]\n",
    "nulls"
   ]
  },
  {
   "cell_type": "code",
   "execution_count": 25,
   "id": "d9392d58-4c44-4207-b37a-833625cfb6cf",
   "metadata": {},
   "outputs": [
    {
     "data": {
      "text/plain": [
       "13539    2000.0\n",
       "913       496.0\n",
       "10372     480.0\n",
       "4104      333.0\n",
       "1844      315.0\n",
       "12202     283.0\n",
       "10266     272.0\n",
       "944       271.0\n",
       "1806      262.0\n",
       "10539     250.0\n",
       "Name: runtime_in_minutes, dtype: float64"
      ]
     },
     "execution_count": 25,
     "metadata": {},
     "output_type": "execute_result"
    }
   ],
   "source": [
    "df['runtime_in_minutes'].sort_values(ascending=False).head(10)"
   ]
  },
  {
   "cell_type": "markdown",
   "id": "61e908b2-81a3-4465-b53b-4b7def4cc713",
   "metadata": {},
   "source": [
    "# Handling Nulls in numerical features"
   ]
  },
  {
   "cell_type": "markdown",
   "id": "ef2892b6-1b28-43a1-8e4b-dfecc5699b27",
   "metadata": {},
   "source": [
    "#Replace the null in runtime_in_minutes with its median since it contains outliers"
   ]
  },
  {
   "cell_type": "code",
   "execution_count": 28,
   "id": "3124f520-eca2-451a-a23b-81b1aac38d71",
   "metadata": {},
   "outputs": [],
   "source": [
    "import warnings\n",
    "warnings.filterwarnings(\"ignore\")"
   ]
  },
  {
   "cell_type": "code",
   "execution_count": 29,
   "id": "790dd71d-663a-41ac-849a-3ec84d7e1d28",
   "metadata": {},
   "outputs": [
    {
     "data": {
      "text/plain": [
       "runtime_in_minutes    0\n",
       "dtype: int64"
      ]
     },
     "execution_count": 29,
     "metadata": {},
     "output_type": "execute_result"
    }
   ],
   "source": [
    "#replace missing value using 0\n",
    "def replace_feature(df,nulls):\n",
    "    df[nulls]=df[nulls].fillna(df['runtime_in_minutes'].median())\n",
    "    return df\n",
    "df=replace_feature(df,nulls)\n",
    "df[nulls].isnull().sum()"
   ]
  },
  {
   "cell_type": "markdown",
   "id": "1e479cc5-333b-40ff-b43c-319423910136",
   "metadata": {},
   "source": [
    "# Extracting categorical feature"
   ]
  },
  {
   "cell_type": "code",
   "execution_count": 31,
   "id": "5f74742f-d9c7-42f3-a2a5-377afb9ff0c5",
   "metadata": {},
   "outputs": [
    {
     "data": {
      "text/plain": [
       "['rating',\n",
       " 'genre',\n",
       " 'directors',\n",
       " 'writers',\n",
       " 'studio_name',\n",
       " 'tomatometer_status']"
      ]
     },
     "execution_count": 31,
     "metadata": {},
     "output_type": "execute_result"
    }
   ],
   "source": [
    "categorical_features=[feature for feature in df.columns if df[feature].dtype=='object' and feature not in ('movie_title','movie_info','critics_consensus','cast')]\n",
    "categorical_features"
   ]
  },
  {
   "cell_type": "markdown",
   "id": "bab6dfae-3125-48ae-9612-ff1ffe1b5d44",
   "metadata": {},
   "source": [
    "# checking for null in Categorical features"
   ]
  },
  {
   "cell_type": "code",
   "execution_count": 33,
   "id": "8302f235-0390-4494-bd8f-32886b5ddea9",
   "metadata": {},
   "outputs": [
    {
     "data": {
      "text/plain": [
       "writers               1243\n",
       "studio_name            362\n",
       "directors              100\n",
       "genre                   16\n",
       "rating                   0\n",
       "tomatometer_status       0\n",
       "dtype: int64"
      ]
     },
     "execution_count": 33,
     "metadata": {},
     "output_type": "execute_result"
    }
   ],
   "source": [
    "df[categorical_features].isnull().sum().sort_values(ascending=False)"
   ]
  },
  {
   "cell_type": "code",
   "execution_count": 34,
   "id": "934c49d4-03ad-4ead-9f2e-3c8c5b07eafd",
   "metadata": {},
   "outputs": [
    {
     "data": {
      "text/html": [
       "<div>\n",
       "<style scoped>\n",
       "    .dataframe tbody tr th:only-of-type {\n",
       "        vertical-align: middle;\n",
       "    }\n",
       "\n",
       "    .dataframe tbody tr th {\n",
       "        vertical-align: top;\n",
       "    }\n",
       "\n",
       "    .dataframe thead th {\n",
       "        text-align: right;\n",
       "    }\n",
       "</style>\n",
       "<table border=\"1\" class=\"dataframe\">\n",
       "  <thead>\n",
       "    <tr style=\"text-align: right;\">\n",
       "      <th></th>\n",
       "      <th>rating</th>\n",
       "      <th>genre</th>\n",
       "      <th>directors</th>\n",
       "      <th>writers</th>\n",
       "      <th>studio_name</th>\n",
       "      <th>tomatometer_status</th>\n",
       "    </tr>\n",
       "  </thead>\n",
       "  <tbody>\n",
       "    <tr>\n",
       "      <th>0</th>\n",
       "      <td>PG</td>\n",
       "      <td>Action &amp; Adventure, Comedy, Drama, Science Fic...</td>\n",
       "      <td>Chris Columbus</td>\n",
       "      <td>Craig Titley</td>\n",
       "      <td>20th Century Fox</td>\n",
       "      <td>Rotten</td>\n",
       "    </tr>\n",
       "    <tr>\n",
       "      <th>1</th>\n",
       "      <td>R</td>\n",
       "      <td>Comedy</td>\n",
       "      <td>Nicole Holofcener</td>\n",
       "      <td>Nicole Holofcener</td>\n",
       "      <td>Sony Pictures Classics</td>\n",
       "      <td>Certified Fresh</td>\n",
       "    </tr>\n",
       "    <tr>\n",
       "      <th>2</th>\n",
       "      <td>R</td>\n",
       "      <td>Comedy, Romance</td>\n",
       "      <td>Blake Edwards</td>\n",
       "      <td>Blake Edwards</td>\n",
       "      <td>Waner Bros.</td>\n",
       "      <td>Fresh</td>\n",
       "    </tr>\n",
       "    <tr>\n",
       "      <th>3</th>\n",
       "      <td>NR</td>\n",
       "      <td>Classics, Drama</td>\n",
       "      <td>Sidney Lumet</td>\n",
       "      <td>Reginald Rose</td>\n",
       "      <td>Criterion Collection</td>\n",
       "      <td>Certified Fresh</td>\n",
       "    </tr>\n",
       "    <tr>\n",
       "      <th>4</th>\n",
       "      <td>G</td>\n",
       "      <td>Action &amp; Adventure, Drama, Kids &amp; Family</td>\n",
       "      <td>Richard Fleischer</td>\n",
       "      <td>Earl Felton</td>\n",
       "      <td>Disney</td>\n",
       "      <td>Fresh</td>\n",
       "    </tr>\n",
       "  </tbody>\n",
       "</table>\n",
       "</div>"
      ],
      "text/plain": [
       "  rating                                              genre  \\\n",
       "0     PG  Action & Adventure, Comedy, Drama, Science Fic...   \n",
       "1      R                                             Comedy   \n",
       "2      R                                    Comedy, Romance   \n",
       "3     NR                                    Classics, Drama   \n",
       "4      G           Action & Adventure, Drama, Kids & Family   \n",
       "\n",
       "           directors            writers             studio_name  \\\n",
       "0     Chris Columbus       Craig Titley        20th Century Fox   \n",
       "1  Nicole Holofcener  Nicole Holofcener  Sony Pictures Classics   \n",
       "2      Blake Edwards      Blake Edwards             Waner Bros.   \n",
       "3       Sidney Lumet      Reginald Rose    Criterion Collection   \n",
       "4  Richard Fleischer        Earl Felton                  Disney   \n",
       "\n",
       "  tomatometer_status  \n",
       "0             Rotten  \n",
       "1    Certified Fresh  \n",
       "2              Fresh  \n",
       "3    Certified Fresh  \n",
       "4              Fresh  "
      ]
     },
     "execution_count": 34,
     "metadata": {},
     "output_type": "execute_result"
    }
   ],
   "source": [
    "df[categorical_features].head()"
   ]
  },
  {
   "cell_type": "code",
   "execution_count": 35,
   "id": "6fcdb9d7-5d92-4953-bf8c-926e04501d27",
   "metadata": {},
   "outputs": [
    {
     "data": {
      "text/plain": [
       "['genre', 'directors', 'writers', 'studio_name']"
      ]
     },
     "execution_count": 35,
     "metadata": {},
     "output_type": "execute_result"
    }
   ],
   "source": [
    "cat_nulls=[i for i in categorical_features if df[i].isnull().sum()>=1]\n",
    "cat_nulls"
   ]
  },
  {
   "cell_type": "markdown",
   "id": "58c4ec04-0c25-4934-8580-6760f8861e52",
   "metadata": {},
   "source": [
    "# Handling Nulls in categorical features"
   ]
  },
  {
   "cell_type": "markdown",
   "id": "89713841-10dc-483e-bf3b-3cc481122eeb",
   "metadata": {},
   "source": [
    "#Replace all missing value using new label"
   ]
  },
  {
   "cell_type": "code",
   "execution_count": 38,
   "id": "877d1f83-407b-4f53-a560-03f37e5d25ef",
   "metadata": {},
   "outputs": [
    {
     "data": {
      "text/plain": [
       "genre          0\n",
       "directors      0\n",
       "writers        0\n",
       "studio_name    0\n",
       "dtype: int64"
      ]
     },
     "execution_count": 38,
     "metadata": {},
     "output_type": "execute_result"
    }
   ],
   "source": [
    "def replace(df,cat_nulls):\n",
    "    df[cat_nulls]=df[cat_nulls].fillna('Missing')\n",
    "    return df\n",
    "df=replace(df,cat_nulls) \n",
    "df[cat_nulls].isnull().sum()"
   ]
  },
  {
   "cell_type": "code",
   "execution_count": 39,
   "id": "52606f23-5abd-44b5-902b-a5b9d3e2e9d8",
   "metadata": {},
   "outputs": [
    {
     "data": {
      "text/html": [
       "<div>\n",
       "<style scoped>\n",
       "    .dataframe tbody tr th:only-of-type {\n",
       "        vertical-align: middle;\n",
       "    }\n",
       "\n",
       "    .dataframe tbody tr th {\n",
       "        vertical-align: top;\n",
       "    }\n",
       "\n",
       "    .dataframe thead th {\n",
       "        text-align: right;\n",
       "    }\n",
       "</style>\n",
       "<table border=\"1\" class=\"dataframe\">\n",
       "  <thead>\n",
       "    <tr style=\"text-align: right;\">\n",
       "      <th></th>\n",
       "      <th>runtime_in_minutes</th>\n",
       "      <th>tomatometer_rating</th>\n",
       "      <th>tomatometer_count</th>\n",
       "      <th>audience_rating</th>\n",
       "      <th>rating</th>\n",
       "      <th>genre</th>\n",
       "      <th>directors</th>\n",
       "      <th>writers</th>\n",
       "      <th>studio_name</th>\n",
       "      <th>tomatometer_status</th>\n",
       "    </tr>\n",
       "  </thead>\n",
       "  <tbody>\n",
       "    <tr>\n",
       "      <th>0</th>\n",
       "      <td>83.0</td>\n",
       "      <td>49</td>\n",
       "      <td>144</td>\n",
       "      <td>53.0</td>\n",
       "      <td>PG</td>\n",
       "      <td>Action &amp; Adventure, Comedy, Drama, Science Fic...</td>\n",
       "      <td>Chris Columbus</td>\n",
       "      <td>Craig Titley</td>\n",
       "      <td>20th Century Fox</td>\n",
       "      <td>Rotten</td>\n",
       "    </tr>\n",
       "    <tr>\n",
       "      <th>1</th>\n",
       "      <td>90.0</td>\n",
       "      <td>86</td>\n",
       "      <td>140</td>\n",
       "      <td>64.0</td>\n",
       "      <td>R</td>\n",
       "      <td>Comedy</td>\n",
       "      <td>Nicole Holofcener</td>\n",
       "      <td>Nicole Holofcener</td>\n",
       "      <td>Sony Pictures Classics</td>\n",
       "      <td>Certified Fresh</td>\n",
       "    </tr>\n",
       "    <tr>\n",
       "      <th>2</th>\n",
       "      <td>118.0</td>\n",
       "      <td>68</td>\n",
       "      <td>22</td>\n",
       "      <td>53.0</td>\n",
       "      <td>R</td>\n",
       "      <td>Comedy, Romance</td>\n",
       "      <td>Blake Edwards</td>\n",
       "      <td>Blake Edwards</td>\n",
       "      <td>Waner Bros.</td>\n",
       "      <td>Fresh</td>\n",
       "    </tr>\n",
       "    <tr>\n",
       "      <th>3</th>\n",
       "      <td>95.0</td>\n",
       "      <td>100</td>\n",
       "      <td>51</td>\n",
       "      <td>97.0</td>\n",
       "      <td>NR</td>\n",
       "      <td>Classics, Drama</td>\n",
       "      <td>Sidney Lumet</td>\n",
       "      <td>Reginald Rose</td>\n",
       "      <td>Criterion Collection</td>\n",
       "      <td>Certified Fresh</td>\n",
       "    </tr>\n",
       "    <tr>\n",
       "      <th>4</th>\n",
       "      <td>127.0</td>\n",
       "      <td>89</td>\n",
       "      <td>27</td>\n",
       "      <td>74.0</td>\n",
       "      <td>G</td>\n",
       "      <td>Action &amp; Adventure, Drama, Kids &amp; Family</td>\n",
       "      <td>Richard Fleischer</td>\n",
       "      <td>Earl Felton</td>\n",
       "      <td>Disney</td>\n",
       "      <td>Fresh</td>\n",
       "    </tr>\n",
       "  </tbody>\n",
       "</table>\n",
       "</div>"
      ],
      "text/plain": [
       "   runtime_in_minutes  tomatometer_rating  tomatometer_count  audience_rating  \\\n",
       "0                83.0                  49                144             53.0   \n",
       "1                90.0                  86                140             64.0   \n",
       "2               118.0                  68                 22             53.0   \n",
       "3                95.0                 100                 51             97.0   \n",
       "4               127.0                  89                 27             74.0   \n",
       "\n",
       "  rating                                              genre  \\\n",
       "0     PG  Action & Adventure, Comedy, Drama, Science Fic...   \n",
       "1      R                                             Comedy   \n",
       "2      R                                    Comedy, Romance   \n",
       "3     NR                                    Classics, Drama   \n",
       "4      G           Action & Adventure, Drama, Kids & Family   \n",
       "\n",
       "           directors            writers             studio_name  \\\n",
       "0     Chris Columbus       Craig Titley        20th Century Fox   \n",
       "1  Nicole Holofcener  Nicole Holofcener  Sony Pictures Classics   \n",
       "2      Blake Edwards      Blake Edwards             Waner Bros.   \n",
       "3       Sidney Lumet      Reginald Rose    Criterion Collection   \n",
       "4  Richard Fleischer        Earl Felton                  Disney   \n",
       "\n",
       "  tomatometer_status  \n",
       "0             Rotten  \n",
       "1    Certified Fresh  \n",
       "2              Fresh  \n",
       "3    Certified Fresh  \n",
       "4              Fresh  "
      ]
     },
     "execution_count": 39,
     "metadata": {},
     "output_type": "execute_result"
    }
   ],
   "source": [
    "num=df[numerical_features]\n",
    "cat=df[categorical_features]\n",
    "dff=pd.concat([num,cat],axis=1)\n",
    "dff.head(5)"
   ]
  },
  {
   "cell_type": "markdown",
   "id": "e34ae502-d7dc-433d-bd18-8dda9440514b",
   "metadata": {},
   "source": [
    "# Handling data inconsistency"
   ]
  },
  {
   "cell_type": "code",
   "execution_count": 41,
   "id": "a5724114-c91f-4373-a1fd-e014c76af5d0",
   "metadata": {},
   "outputs": [
    {
     "data": {
      "text/plain": [
       "rating\n",
       "R         5960\n",
       "NR        4505\n",
       "PG-13     2772\n",
       "PG        1980\n",
       "G          638\n",
       "NC17        34\n",
       "PG-13)       3\n",
       "R)           1\n",
       "Name: count, dtype: int64"
      ]
     },
     "execution_count": 41,
     "metadata": {},
     "output_type": "execute_result"
    }
   ],
   "source": [
    "dff['rating'].value_counts()"
   ]
  },
  {
   "cell_type": "code",
   "execution_count": 42,
   "id": "4e9c09d3-c6fb-4b02-9160-067c33ac5fc3",
   "metadata": {},
   "outputs": [
    {
     "data": {
      "text/plain": [
       "rating\n",
       "R        5961\n",
       "NR       4505\n",
       "PG-13    2775\n",
       "PG       1980\n",
       "G         638\n",
       "NC17       34\n",
       "Name: count, dtype: int64"
      ]
     },
     "execution_count": 42,
     "metadata": {},
     "output_type": "execute_result"
    }
   ],
   "source": [
    "dff.replace('PG-13)','PG-13', inplace=True)\n",
    "dff.replace('R)','R', inplace=True)\n",
    "dff['rating'].value_counts()"
   ]
  },
  {
   "cell_type": "code",
   "execution_count": 43,
   "id": "d03636aa-952a-453d-8314-616474dd1f4f",
   "metadata": {},
   "outputs": [
    {
     "data": {
      "text/plain": [
       "rating\n",
       "R        5961\n",
       "NR       4505\n",
       "PG-13    2775\n",
       "PG       1980\n",
       "G         638\n",
       "NC17       34\n",
       "Name: count, dtype: int64"
      ]
     },
     "execution_count": 43,
     "metadata": {},
     "output_type": "execute_result"
    }
   ],
   "source": [
    "dff['rating'].value_counts()"
   ]
  },
  {
   "cell_type": "markdown",
   "id": "95dbe99f-1959-4c9b-b5c6-236e2dcbdf56",
   "metadata": {},
   "source": [
    "# Encoding Categorical variables- rating feature"
   ]
  },
  {
   "cell_type": "markdown",
   "id": "f6372e26-6f7b-4237-b906-1f977854aa66",
   "metadata": {},
   "source": [
    "#Rating feature is encoded by mean encoding"
   ]
  },
  {
   "cell_type": "code",
   "execution_count": 46,
   "id": "80515f7d-0048-4e39-b4f7-70e89f490c07",
   "metadata": {},
   "outputs": [
    {
     "data": {
      "text/plain": [
       "0    62.69\n",
       "1    56.72\n",
       "Name: rating, dtype: float64"
      ]
     },
     "execution_count": 46,
     "metadata": {},
     "output_type": "execute_result"
    }
   ],
   "source": [
    "rating_mean=dff.groupby('rating')['audience_rating'].mean().round(2)\n",
    "dff['rating']=dff['rating'].map(rating_mean)\n",
    "dff['rating'].head(2)"
   ]
  },
  {
   "cell_type": "markdown",
   "id": "41062a73-52f7-4938-b68b-9be60cd8550f",
   "metadata": {},
   "source": [
    "# Encoding Categorical variables- tomatometer_status feature "
   ]
  },
  {
   "cell_type": "markdown",
   "id": "9e955a91-7142-44f3-82d5-39185b5f0453",
   "metadata": {},
   "source": [
    "#tomatometer_status feature is encoded by Ordinal encoding"
   ]
  },
  {
   "cell_type": "code",
   "execution_count": 49,
   "id": "4682b3e6-85c1-4cf9-9d40-f0a389ceff3c",
   "metadata": {},
   "outputs": [
    {
     "data": {
      "text/html": [
       "<div>\n",
       "<style scoped>\n",
       "    .dataframe tbody tr th:only-of-type {\n",
       "        vertical-align: middle;\n",
       "    }\n",
       "\n",
       "    .dataframe tbody tr th {\n",
       "        vertical-align: top;\n",
       "    }\n",
       "\n",
       "    .dataframe thead th {\n",
       "        text-align: right;\n",
       "    }\n",
       "</style>\n",
       "<table border=\"1\" class=\"dataframe\">\n",
       "  <thead>\n",
       "    <tr style=\"text-align: right;\">\n",
       "      <th></th>\n",
       "      <th>runtime_in_minutes</th>\n",
       "      <th>tomatometer_rating</th>\n",
       "      <th>tomatometer_count</th>\n",
       "      <th>audience_rating</th>\n",
       "      <th>rating</th>\n",
       "      <th>genre</th>\n",
       "      <th>directors</th>\n",
       "      <th>writers</th>\n",
       "      <th>studio_name</th>\n",
       "      <th>tomatometer_status</th>\n",
       "    </tr>\n",
       "  </thead>\n",
       "  <tbody>\n",
       "    <tr>\n",
       "      <th>0</th>\n",
       "      <td>83.0</td>\n",
       "      <td>49</td>\n",
       "      <td>144</td>\n",
       "      <td>53.0</td>\n",
       "      <td>62.69</td>\n",
       "      <td>Action &amp; Adventure, Comedy, Drama, Science Fic...</td>\n",
       "      <td>Chris Columbus</td>\n",
       "      <td>Craig Titley</td>\n",
       "      <td>20th Century Fox</td>\n",
       "      <td>0.0</td>\n",
       "    </tr>\n",
       "    <tr>\n",
       "      <th>1</th>\n",
       "      <td>90.0</td>\n",
       "      <td>86</td>\n",
       "      <td>140</td>\n",
       "      <td>64.0</td>\n",
       "      <td>56.72</td>\n",
       "      <td>Comedy</td>\n",
       "      <td>Nicole Holofcener</td>\n",
       "      <td>Nicole Holofcener</td>\n",
       "      <td>Sony Pictures Classics</td>\n",
       "      <td>2.0</td>\n",
       "    </tr>\n",
       "  </tbody>\n",
       "</table>\n",
       "</div>"
      ],
      "text/plain": [
       "   runtime_in_minutes  tomatometer_rating  tomatometer_count  audience_rating  \\\n",
       "0                83.0                  49                144             53.0   \n",
       "1                90.0                  86                140             64.0   \n",
       "\n",
       "   rating                                              genre  \\\n",
       "0   62.69  Action & Adventure, Comedy, Drama, Science Fic...   \n",
       "1   56.72                                             Comedy   \n",
       "\n",
       "           directors            writers             studio_name  \\\n",
       "0     Chris Columbus       Craig Titley        20th Century Fox   \n",
       "1  Nicole Holofcener  Nicole Holofcener  Sony Pictures Classics   \n",
       "\n",
       "   tomatometer_status  \n",
       "0                 0.0  \n",
       "1                 2.0  "
      ]
     },
     "execution_count": 49,
     "metadata": {},
     "output_type": "execute_result"
    }
   ],
   "source": [
    "from sklearn.preprocessing import OrdinalEncoder\n",
    "rating_order = ['Rotten','Fresh','Certified Fresh']\n",
    "encoder_status= OrdinalEncoder(categories=[rating_order])\n",
    "dff['tomatometer_status'] = encoder_status.fit_transform(dff[['tomatometer_status']])\n",
    "dff.head(2)"
   ]
  },
  {
   "cell_type": "markdown",
   "id": "4057081e-7132-4618-82ee-cd6a35690eb8",
   "metadata": {},
   "source": [
    "# Encoding Categorical variables- genre feature "
   ]
  },
  {
   "cell_type": "markdown",
   "id": "2669aee2-dc74-4f72-b0c5-6c25e1b78513",
   "metadata": {},
   "source": [
    "#Selected the Top Genres and encoded using one hot encoding"
   ]
  },
  {
   "cell_type": "code",
   "execution_count": 52,
   "id": "77f3fc8e-3fca-4317-a46f-8dc49fe8b20d",
   "metadata": {},
   "outputs": [
    {
     "data": {
      "text/plain": [
       "genre\n",
       "Drama                                            1621\n",
       "Comedy                                           1133\n",
       "Comedy, Drama                                     780\n",
       "Drama, Mystery & Suspense                         666\n",
       "Art House & International, Drama                  552\n",
       "Documentary, Special Interest                     510\n",
       "Horror                                            389\n",
       "Documentary                                       376\n",
       "Action & Adventure, Drama                         333\n",
       "Action & Adventure, Drama, Mystery & Suspense     314\n",
       "Name: count, dtype: int64"
      ]
     },
     "execution_count": 52,
     "metadata": {},
     "output_type": "execute_result"
    }
   ],
   "source": [
    "df['genre'].value_counts().head(10)"
   ]
  },
  {
   "cell_type": "code",
   "execution_count": null,
   "id": "736a3321-ebd6-4b63-a7a9-add8f2cee7c5",
   "metadata": {},
   "outputs": [],
   "source": []
  },
  {
   "cell_type": "code",
   "execution_count": 53,
   "id": "534ca3b8-6d28-42f3-84d0-5922d77aab54",
   "metadata": {},
   "outputs": [
    {
     "data": {
      "text/plain": [
       "{'Drama': 8640,\n",
       " 'Comedy': 5147,\n",
       " 'Action & Adventure': 3248,\n",
       " 'Mystery & Suspense': 3223,\n",
       " 'Art House & International': 2312,\n",
       " 'Horror': 1828,\n",
       " 'Documentary': 1779,\n",
       " 'Romance': 1739,\n",
       " 'Science Fiction & Fantasy': 1687,\n",
       " 'Classics': 1529,\n",
       " 'Special Interest': 1142,\n",
       " 'Kids & Family': 1036,\n",
       " 'Musical & Performing Arts': 916,\n",
       " 'Animation': 542,\n",
       " 'Western': 276,\n",
       " 'Television': 243,\n",
       " 'Sports & Fitness': 169,\n",
       " 'Cult Movies': 96,\n",
       " 'Faith & Spirituality': 72,\n",
       " 'Gay & Lesbian': 67,\n",
       " 'Missing': 16,\n",
       " 'Anime & Manga': 15}"
      ]
     },
     "execution_count": 53,
     "metadata": {},
     "output_type": "execute_result"
    }
   ],
   "source": [
    "dft=df['genre'].str.split(',', expand=True)\n",
    "from collections import Counter\n",
    "d={}\n",
    "for i in dft.columns:\n",
    "    g=dft[i]\n",
    "    cg=Counter(g)\n",
    "    for k,v in cg.items():\n",
    "        k=str(k).strip()\n",
    "        if d.get(k):\n",
    "             d[k]+=v\n",
    "        else:\n",
    "            d[k]=v\n",
    "l={k:d[k] for k in sorted(d,key=lambda x:d[x],reverse=True)}       \n",
    "l.pop('None')\n",
    "l"
   ]
  },
  {
   "cell_type": "code",
   "execution_count": 54,
   "id": "010eb213-776f-4517-8f2e-b7deed895954",
   "metadata": {},
   "outputs": [
    {
     "data": {
      "text/plain": [
       "['Drama',\n",
       " 'Comedy',\n",
       " 'Action & Adventure',\n",
       " 'Mystery & Suspense',\n",
       " 'Art House & International',\n",
       " 'Horror',\n",
       " 'Documentary',\n",
       " 'Romance',\n",
       " 'Science Fiction & Fantasy',\n",
       " 'Classics',\n",
       " 'Special Interest',\n",
       " 'Kids & Family',\n",
       " 'Musical & Performing Arts']"
      ]
     },
     "execution_count": 54,
     "metadata": {},
     "output_type": "execute_result"
    }
   ],
   "source": [
    "one_hot=list(l.keys())[:13]\n",
    "one_hot"
   ]
  },
  {
   "cell_type": "code",
   "execution_count": 55,
   "id": "b292a12f-e23e-410f-8f55-63bc5bc7de10",
   "metadata": {},
   "outputs": [],
   "source": [
    "for i in one_hot:\n",
    "    df[i]=0  "
   ]
  },
  {
   "cell_type": "code",
   "execution_count": 56,
   "id": "e85094ef-1aee-47e7-ab44-8a5b35d516ad",
   "metadata": {},
   "outputs": [
    {
     "data": {
      "text/html": [
       "<div>\n",
       "<style scoped>\n",
       "    .dataframe tbody tr th:only-of-type {\n",
       "        vertical-align: middle;\n",
       "    }\n",
       "\n",
       "    .dataframe tbody tr th {\n",
       "        vertical-align: top;\n",
       "    }\n",
       "\n",
       "    .dataframe thead th {\n",
       "        text-align: right;\n",
       "    }\n",
       "</style>\n",
       "<table border=\"1\" class=\"dataframe\">\n",
       "  <thead>\n",
       "    <tr style=\"text-align: right;\">\n",
       "      <th></th>\n",
       "      <th>movie_title</th>\n",
       "      <th>movie_info</th>\n",
       "      <th>critics_consensus</th>\n",
       "      <th>rating</th>\n",
       "      <th>genre</th>\n",
       "      <th>directors</th>\n",
       "      <th>writers</th>\n",
       "      <th>cast</th>\n",
       "      <th>in_theaters_date</th>\n",
       "      <th>on_streaming_date</th>\n",
       "      <th>runtime_in_minutes</th>\n",
       "      <th>studio_name</th>\n",
       "      <th>tomatometer_status</th>\n",
       "      <th>tomatometer_rating</th>\n",
       "      <th>tomatometer_count</th>\n",
       "      <th>audience_rating</th>\n",
       "      <th>Drama</th>\n",
       "      <th>Comedy</th>\n",
       "      <th>Action &amp; Adventure</th>\n",
       "      <th>Mystery &amp; Suspense</th>\n",
       "      <th>Art House &amp; International</th>\n",
       "      <th>Horror</th>\n",
       "      <th>Documentary</th>\n",
       "      <th>Romance</th>\n",
       "      <th>Science Fiction &amp; Fantasy</th>\n",
       "      <th>Classics</th>\n",
       "      <th>Special Interest</th>\n",
       "      <th>Kids &amp; Family</th>\n",
       "      <th>Musical &amp; Performing Arts</th>\n",
       "    </tr>\n",
       "  </thead>\n",
       "  <tbody>\n",
       "    <tr>\n",
       "      <th>0</th>\n",
       "      <td>Percy Jackson &amp; the Olympians: The Lightning T...</td>\n",
       "      <td>A teenager discovers he's the descendant of a ...</td>\n",
       "      <td>Though it may seem like just another Harry Pot...</td>\n",
       "      <td>PG</td>\n",
       "      <td>Action &amp; Adventure, Comedy, Drama, Science Fic...</td>\n",
       "      <td>Chris Columbus</td>\n",
       "      <td>Craig Titley</td>\n",
       "      <td>Logan Lerman, Brandon T. Jackson, Alexandra Da...</td>\n",
       "      <td>2010-02-12</td>\n",
       "      <td>2010-06-29</td>\n",
       "      <td>83.0</td>\n",
       "      <td>20th Century Fox</td>\n",
       "      <td>Rotten</td>\n",
       "      <td>49</td>\n",
       "      <td>144</td>\n",
       "      <td>53.0</td>\n",
       "      <td>1</td>\n",
       "      <td>1</td>\n",
       "      <td>1</td>\n",
       "      <td>0</td>\n",
       "      <td>0</td>\n",
       "      <td>0</td>\n",
       "      <td>0</td>\n",
       "      <td>0</td>\n",
       "      <td>1</td>\n",
       "      <td>0</td>\n",
       "      <td>0</td>\n",
       "      <td>0</td>\n",
       "      <td>0</td>\n",
       "    </tr>\n",
       "    <tr>\n",
       "      <th>1</th>\n",
       "      <td>Please Give</td>\n",
       "      <td>Kate has a lot on her mind. There's the ethics...</td>\n",
       "      <td>Nicole Holofcener's newest might seem slight i...</td>\n",
       "      <td>R</td>\n",
       "      <td>Comedy</td>\n",
       "      <td>Nicole Holofcener</td>\n",
       "      <td>Nicole Holofcener</td>\n",
       "      <td>Catherine Keener, Amanda Peet, Oliver Platt, R...</td>\n",
       "      <td>2010-04-30</td>\n",
       "      <td>2010-10-19</td>\n",
       "      <td>90.0</td>\n",
       "      <td>Sony Pictures Classics</td>\n",
       "      <td>Certified Fresh</td>\n",
       "      <td>86</td>\n",
       "      <td>140</td>\n",
       "      <td>64.0</td>\n",
       "      <td>0</td>\n",
       "      <td>1</td>\n",
       "      <td>0</td>\n",
       "      <td>0</td>\n",
       "      <td>0</td>\n",
       "      <td>0</td>\n",
       "      <td>0</td>\n",
       "      <td>0</td>\n",
       "      <td>0</td>\n",
       "      <td>0</td>\n",
       "      <td>0</td>\n",
       "      <td>0</td>\n",
       "      <td>0</td>\n",
       "    </tr>\n",
       "  </tbody>\n",
       "</table>\n",
       "</div>"
      ],
      "text/plain": [
       "                                         movie_title  \\\n",
       "0  Percy Jackson & the Olympians: The Lightning T...   \n",
       "1                                        Please Give   \n",
       "\n",
       "                                          movie_info  \\\n",
       "0  A teenager discovers he's the descendant of a ...   \n",
       "1  Kate has a lot on her mind. There's the ethics...   \n",
       "\n",
       "                                   critics_consensus rating  \\\n",
       "0  Though it may seem like just another Harry Pot...     PG   \n",
       "1  Nicole Holofcener's newest might seem slight i...      R   \n",
       "\n",
       "                                               genre          directors  \\\n",
       "0  Action & Adventure, Comedy, Drama, Science Fic...     Chris Columbus   \n",
       "1                                             Comedy  Nicole Holofcener   \n",
       "\n",
       "             writers                                               cast  \\\n",
       "0       Craig Titley  Logan Lerman, Brandon T. Jackson, Alexandra Da...   \n",
       "1  Nicole Holofcener  Catherine Keener, Amanda Peet, Oliver Platt, R...   \n",
       "\n",
       "  in_theaters_date on_streaming_date  runtime_in_minutes  \\\n",
       "0       2010-02-12        2010-06-29                83.0   \n",
       "1       2010-04-30        2010-10-19                90.0   \n",
       "\n",
       "              studio_name tomatometer_status  tomatometer_rating  \\\n",
       "0        20th Century Fox             Rotten                  49   \n",
       "1  Sony Pictures Classics    Certified Fresh                  86   \n",
       "\n",
       "   tomatometer_count  audience_rating  Drama  Comedy  Action & Adventure  \\\n",
       "0                144             53.0      1       1                   1   \n",
       "1                140             64.0      0       1                   0   \n",
       "\n",
       "   Mystery & Suspense  Art House & International  Horror  Documentary  \\\n",
       "0                   0                          0       0            0   \n",
       "1                   0                          0       0            0   \n",
       "\n",
       "   Romance  Science Fiction & Fantasy  Classics  Special Interest  \\\n",
       "0        0                          1         0                 0   \n",
       "1        0                          0         0                 0   \n",
       "\n",
       "   Kids & Family  Musical & Performing Arts  \n",
       "0              0                          0  \n",
       "1              0                          0  "
      ]
     },
     "execution_count": 56,
     "metadata": {},
     "output_type": "execute_result"
    }
   ],
   "source": [
    "def isgenrepresent(val, col):\n",
    "    if col.strip() in val:\n",
    "        return 1\n",
    "    else:\n",
    "        return 0\n",
    "    \n",
    "for i in one_hot:\n",
    "    df[i] = df.apply(lambda x: isgenrepresent(x.genre, i ), axis=1)\n",
    "pd.set_option('display.max_column',None)\n",
    "df.head(2)"
   ]
  },
  {
   "cell_type": "code",
   "execution_count": 57,
   "id": "79016cd9-fb88-4e2d-a329-9b97d629fe04",
   "metadata": {},
   "outputs": [
    {
     "data": {
      "text/html": [
       "<div>\n",
       "<style scoped>\n",
       "    .dataframe tbody tr th:only-of-type {\n",
       "        vertical-align: middle;\n",
       "    }\n",
       "\n",
       "    .dataframe tbody tr th {\n",
       "        vertical-align: top;\n",
       "    }\n",
       "\n",
       "    .dataframe thead th {\n",
       "        text-align: right;\n",
       "    }\n",
       "</style>\n",
       "<table border=\"1\" class=\"dataframe\">\n",
       "  <thead>\n",
       "    <tr style=\"text-align: right;\">\n",
       "      <th></th>\n",
       "      <th>Genre</th>\n",
       "      <th>Mean Audience Rating</th>\n",
       "    </tr>\n",
       "  </thead>\n",
       "  <tbody>\n",
       "    <tr>\n",
       "      <th>0</th>\n",
       "      <td>Drama</td>\n",
       "      <td>63.06</td>\n",
       "    </tr>\n",
       "    <tr>\n",
       "      <th>1</th>\n",
       "      <td>Comedy</td>\n",
       "      <td>58.17</td>\n",
       "    </tr>\n",
       "    <tr>\n",
       "      <th>2</th>\n",
       "      <td>Action &amp; Adventure</td>\n",
       "      <td>57.60</td>\n",
       "    </tr>\n",
       "    <tr>\n",
       "      <th>3</th>\n",
       "      <td>Mystery &amp; Suspense</td>\n",
       "      <td>53.99</td>\n",
       "    </tr>\n",
       "    <tr>\n",
       "      <th>4</th>\n",
       "      <td>Art House &amp; International</td>\n",
       "      <td>66.58</td>\n",
       "    </tr>\n",
       "    <tr>\n",
       "      <th>5</th>\n",
       "      <td>Horror</td>\n",
       "      <td>46.38</td>\n",
       "    </tr>\n",
       "    <tr>\n",
       "      <th>6</th>\n",
       "      <td>Documentary</td>\n",
       "      <td>72.88</td>\n",
       "    </tr>\n",
       "    <tr>\n",
       "      <th>7</th>\n",
       "      <td>Romance</td>\n",
       "      <td>63.54</td>\n",
       "    </tr>\n",
       "    <tr>\n",
       "      <th>8</th>\n",
       "      <td>Science Fiction &amp; Fantasy</td>\n",
       "      <td>56.16</td>\n",
       "    </tr>\n",
       "    <tr>\n",
       "      <th>9</th>\n",
       "      <td>Classics</td>\n",
       "      <td>71.35</td>\n",
       "    </tr>\n",
       "    <tr>\n",
       "      <th>10</th>\n",
       "      <td>Special Interest</td>\n",
       "      <td>71.94</td>\n",
       "    </tr>\n",
       "    <tr>\n",
       "      <th>11</th>\n",
       "      <td>Kids &amp; Family</td>\n",
       "      <td>59.99</td>\n",
       "    </tr>\n",
       "    <tr>\n",
       "      <th>12</th>\n",
       "      <td>Musical &amp; Performing Arts</td>\n",
       "      <td>71.07</td>\n",
       "    </tr>\n",
       "  </tbody>\n",
       "</table>\n",
       "</div>"
      ],
      "text/plain": [
       "                        Genre  Mean Audience Rating\n",
       "0                       Drama                 63.06\n",
       "1                      Comedy                 58.17\n",
       "2          Action & Adventure                 57.60\n",
       "3          Mystery & Suspense                 53.99\n",
       "4   Art House & International                 66.58\n",
       "5                      Horror                 46.38\n",
       "6                 Documentary                 72.88\n",
       "7                     Romance                 63.54\n",
       "8   Science Fiction & Fantasy                 56.16\n",
       "9                    Classics                 71.35\n",
       "10           Special Interest                 71.94\n",
       "11              Kids & Family                 59.99\n",
       "12  Musical & Performing Arts                 71.07"
      ]
     },
     "execution_count": 57,
     "metadata": {},
     "output_type": "execute_result"
    }
   ],
   "source": [
    "genre_mean_ratings = []\n",
    "for i in one_hot:\n",
    "    a=df.groupby(i)['audience_rating'].mean().round(2)[1]\n",
    "    genre_mean_ratings.append((i,a))\n",
    "genre_mean_df = pd.DataFrame(genre_mean_ratings, columns=['Genre', 'Mean Audience Rating'])\n",
    "genre_mean_df"
   ]
  },
  {
   "cell_type": "code",
   "execution_count": 58,
   "id": "53b630ee-d332-414f-8415-3549801757a9",
   "metadata": {},
   "outputs": [
    {
     "data": {
      "text/plain": [
       "<Axes: xlabel='Mean Audience Rating', ylabel='Genre'>"
      ]
     },
     "execution_count": 58,
     "metadata": {},
     "output_type": "execute_result"
    },
    {
     "data": {
      "image/png": "[encoded data removed]",
      "text/plain": [
       "<Figure size 1500x500 with 1 Axes>"
      ]
     },
     "metadata": {},
     "output_type": "display_data"
    }
   ],
   "source": [
    "import matplotlib.pyplot as plt\n",
    "plt.figure(figsize=(15,5))\n",
    "sns.barplot(x=\"Mean Audience Rating\", y=\"Genre\",hue=\"Genre\",data=genre_mean_df,palette='Set2')"
   ]
  },
  {
   "cell_type": "markdown",
   "id": "92d81fd9-6566-4e2c-b7ea-bc682268d3ed",
   "metadata": {},
   "source": [
    "# Encoding Categorical variables- directors feature "
   ]
  },
  {
   "cell_type": "markdown",
   "id": "ba919db7-ffa5-4de5-9e0c-a0419c13cec6",
   "metadata": {},
   "source": [
    "#selected the Top directors with more counts and rename rest to 'Others' and encoded using label encoding"
   ]
  },
  {
   "cell_type": "code",
   "execution_count": 61,
   "id": "6c765b5a-bd1b-46bd-894f-da181776e255",
   "metadata": {},
   "outputs": [
    {
     "data": {
      "text/plain": [
       "directors\n",
       "Missing              100\n",
       "Alfred Hitchcock      35\n",
       "Clint Eastwood        34\n",
       "Woody Allen           33\n",
       "Steven Spielberg      32\n",
       "Sidney Lumet          29\n",
       "Steven Soderbergh     26\n",
       "Blake Edwards         26\n",
       "John Ford             25\n",
       "Martin Scorsese       25\n",
       "Ridley Scott          24\n",
       "Ron Howard            23\n",
       "Werner Herzog         23\n",
       "Barry Levinson        22\n",
       "Spike Lee             22\n",
       "Name: count, dtype: int64"
      ]
     },
     "execution_count": 61,
     "metadata": {},
     "output_type": "execute_result"
    }
   ],
   "source": [
    "dir=df['directors'].value_counts()\n",
    "dir.head(15)"
   ]
  },
  {
   "cell_type": "code",
   "execution_count": 62,
   "id": "ecc8b94e-7342-4dbe-b601-34803db6da34",
   "metadata": {},
   "outputs": [
    {
     "data": {
      "text/html": [
       "<div>\n",
       "<style scoped>\n",
       "    .dataframe tbody tr th:only-of-type {\n",
       "        vertical-align: middle;\n",
       "    }\n",
       "\n",
       "    .dataframe tbody tr th {\n",
       "        vertical-align: top;\n",
       "    }\n",
       "\n",
       "    .dataframe thead th {\n",
       "        text-align: right;\n",
       "    }\n",
       "</style>\n",
       "<table border=\"1\" class=\"dataframe\">\n",
       "  <thead>\n",
       "    <tr style=\"text-align: right;\">\n",
       "      <th></th>\n",
       "      <th>directors</th>\n",
       "      <th>mean_audience_rating</th>\n",
       "    </tr>\n",
       "  </thead>\n",
       "  <tbody>\n",
       "    <tr>\n",
       "      <th>0</th>\n",
       "      <td>Alfred Hitchcock</td>\n",
       "      <td>70.63</td>\n",
       "    </tr>\n",
       "    <tr>\n",
       "      <th>1</th>\n",
       "      <td>Barry Levinson</td>\n",
       "      <td>57.32</td>\n",
       "    </tr>\n",
       "    <tr>\n",
       "      <th>2</th>\n",
       "      <td>Blake Edwards</td>\n",
       "      <td>62.38</td>\n",
       "    </tr>\n",
       "    <tr>\n",
       "      <th>3</th>\n",
       "      <td>Clint Eastwood</td>\n",
       "      <td>67.74</td>\n",
       "    </tr>\n",
       "    <tr>\n",
       "      <th>4</th>\n",
       "      <td>John Ford</td>\n",
       "      <td>76.32</td>\n",
       "    </tr>\n",
       "  </tbody>\n",
       "</table>\n",
       "</div>"
      ],
      "text/plain": [
       "          directors  mean_audience_rating\n",
       "0  Alfred Hitchcock                 70.63\n",
       "1    Barry Levinson                 57.32\n",
       "2     Blake Edwards                 62.38\n",
       "3    Clint Eastwood                 67.74\n",
       "4         John Ford                 76.32"
      ]
     },
     "execution_count": 62,
     "metadata": {},
     "output_type": "execute_result"
    }
   ],
   "source": [
    "dir_list=dir[dir>20].index.to_list()\n",
    "dir_list\n",
    "filtered_df = df[df['directors'].isin(dir_list)]\n",
    "\n",
    "# Group by 'directors' and calculate the mean of 'audience_rating'\n",
    "director_audience_mean = filtered_df.groupby('directors')['audience_rating'].mean().round(2)\n",
    "director_audience_mean\n",
    "director_mean_df = director_audience_mean.reset_index()\n",
    "director_mean_df.rename(columns={'audience_rating':'mean_audience_rating'},inplace=True)\n",
    "director_mean_df.head(5)"
   ]
  },
  {
   "cell_type": "code",
   "execution_count": 63,
   "id": "f919032f-9adc-45da-9c42-313284c9713c",
   "metadata": {},
   "outputs": [
    {
     "data": {
      "text/plain": [
       "<Axes: xlabel='mean_audience_rating', ylabel='directors'>"
      ]
     },
     "execution_count": 63,
     "metadata": {},
     "output_type": "execute_result"
    },
    {
     "data": {
      "image/png": "[encoded data removed]",
      "text/plain": [
       "<Figure size 1500x500 with 1 Axes>"
      ]
     },
     "metadata": {},
     "output_type": "display_data"
    }
   ],
   "source": [
    "plt.figure(figsize=(15,5))\n",
    "sns.barplot(y=\"directors\", x=\"mean_audience_rating\",hue=\"directors\",data=director_mean_df,palette='Set2')"
   ]
  },
  {
   "cell_type": "code",
   "execution_count": 64,
   "id": "8545726a-063f-41b1-942d-d9c6bf8b40b9",
   "metadata": {},
   "outputs": [],
   "source": [
    "dir.drop('Missing',axis=0, inplace=True)"
   ]
  },
  {
   "cell_type": "code",
   "execution_count": 65,
   "id": "d6af796e-902c-4f06-b4aa-0ada3cc691e5",
   "metadata": {},
   "outputs": [],
   "source": [
    "top_dir = dir[dir >=30].index"
   ]
  },
  {
   "cell_type": "code",
   "execution_count": 66,
   "id": "4d564287-0b49-49e1-a62a-5dd441866ea4",
   "metadata": {},
   "outputs": [
    {
     "data": {
      "text/plain": [
       "Index(['Alfred Hitchcock', 'Clint Eastwood', 'Woody Allen',\n",
       "       'Steven Spielberg'],\n",
       "      dtype='object', name='directors')"
      ]
     },
     "execution_count": 66,
     "metadata": {},
     "output_type": "execute_result"
    }
   ],
   "source": [
    "top_dir"
   ]
  },
  {
   "cell_type": "code",
   "execution_count": 67,
   "id": "bf4c22e4-ad23-4eda-a8dd-6db9d60b2f1f",
   "metadata": {},
   "outputs": [],
   "source": [
    "dff['directors']=dff['directors'].apply(lambda x: x if x in top_dir else 'Others')"
   ]
  },
  {
   "cell_type": "code",
   "execution_count": 68,
   "id": "0c72314f-a88e-4797-ab2a-dd02580ad253",
   "metadata": {},
   "outputs": [],
   "source": [
    "from sklearn.preprocessing import LabelEncoder\n",
    "le=LabelEncoder()\n",
    "dff['directors']=le.fit_transform(dff['directors'])"
   ]
  },
  {
   "cell_type": "markdown",
   "id": "e315d79c-54f0-49dd-944c-0ef57e051d4a",
   "metadata": {},
   "source": [
    "# Encoding Categorical variables- writers feature "
   ]
  },
  {
   "cell_type": "markdown",
   "id": "7d292ca1-9df3-4500-b5e0-280fada9932f",
   "metadata": {},
   "source": [
    "#selected the Top Writers with more counts and rename rest to 'Others' and encoded using label encoding"
   ]
  },
  {
   "cell_type": "code",
   "execution_count": 71,
   "id": "c16afaed-a0e2-4eb7-bdd0-28e8d592e4bc",
   "metadata": {},
   "outputs": [
    {
     "data": {
      "text/plain": [
       "writers\n",
       "Missing               1243\n",
       "Woody Allen             29\n",
       "Neil Simon              19\n",
       "Werner Herzog           18\n",
       "David Mamet             18\n",
       "John Hughes             17\n",
       "Tyler Perry             17\n",
       "Ingmar Bergman          16\n",
       "Larry Cohen             15\n",
       "Jim Jarmusch            13\n",
       "John Sayles             13\n",
       "William Goldman         13\n",
       "Pedro Almod√≥var        12\n",
       "Paul Schrader           12\n",
       "M. Night Shyamalan      11\n",
       "Name: count, dtype: int64"
      ]
     },
     "execution_count": 71,
     "metadata": {},
     "output_type": "execute_result"
    }
   ],
   "source": [
    "writers=dff['writers'].value_counts()\n",
    "writers.head(15)"
   ]
  },
  {
   "cell_type": "code",
   "execution_count": 72,
   "id": "2ca03823-1fd1-4be4-8c8d-672f02007d37",
   "metadata": {},
   "outputs": [],
   "source": [
    "writers_list=writers[writers>10].index.to_list()\n",
    "writers_df = df[df['writers'].isin(writers_list)]\n",
    "writers_audience_mean = writers_df.groupby('writers')['audience_rating'].mean().round(2)\n",
    "\n",
    "writers_mean_df = writers_audience_mean.reset_index()\n",
    "writers_mean_df.rename(columns={'audience_rating':'mean_audience_rating'},inplace=True)"
   ]
  },
  {
   "cell_type": "code",
   "execution_count": 73,
   "id": "b2240fcc-9c51-4580-baf4-e07b3e8ee848",
   "metadata": {},
   "outputs": [
    {
     "data": {
      "text/plain": [
       "<Axes: xlabel='mean_audience_rating', ylabel='writers'>"
      ]
     },
     "execution_count": 73,
     "metadata": {},
     "output_type": "execute_result"
    },
    {
     "data": {
      "image/png": "[encoded data removed]",
      "text/plain": [
       "<Figure size 1500x500 with 1 Axes>"
      ]
     },
     "metadata": {},
     "output_type": "display_data"
    }
   ],
   "source": [
    "plt.figure(figsize=(15,5))\n",
    "sns.barplot(x=\"mean_audience_rating\", y=\"writers\",hue=\"writers\",data=writers_mean_df,palette='Set2')\n"
   ]
  },
  {
   "cell_type": "code",
   "execution_count": 74,
   "id": "bdc4dffd-391d-47ea-8b9d-180485708f0c",
   "metadata": {},
   "outputs": [],
   "source": [
    "top_writers=writers[(writers.values>15) & (writers.index!='Missing')]\n",
    "dff['writers']=dff['writers'].apply(lambda x: x if x in top_writers else 'Others')\n",
    "from sklearn.preprocessing import LabelEncoder\n",
    "le=LabelEncoder()\n",
    "dff['writers']=le.fit_transform(dff['writers'])"
   ]
  },
  {
   "cell_type": "code",
   "execution_count": null,
   "id": "260ab917-3444-4bbc-beec-7357a180e2bf",
   "metadata": {},
   "outputs": [],
   "source": []
  },
  {
   "cell_type": "code",
   "execution_count": 75,
   "id": "804374e8-7134-4d26-9a6f-e75afcd6fc1d",
   "metadata": {},
   "outputs": [
    {
     "data": {
      "text/html": [
       "<div>\n",
       "<style scoped>\n",
       "    .dataframe tbody tr th:only-of-type {\n",
       "        vertical-align: middle;\n",
       "    }\n",
       "\n",
       "    .dataframe tbody tr th {\n",
       "        vertical-align: top;\n",
       "    }\n",
       "\n",
       "    .dataframe thead th {\n",
       "        text-align: right;\n",
       "    }\n",
       "</style>\n",
       "<table border=\"1\" class=\"dataframe\">\n",
       "  <thead>\n",
       "    <tr style=\"text-align: right;\">\n",
       "      <th></th>\n",
       "      <th>runtime_in_minutes</th>\n",
       "      <th>tomatometer_rating</th>\n",
       "      <th>tomatometer_count</th>\n",
       "      <th>audience_rating</th>\n",
       "      <th>rating</th>\n",
       "      <th>genre</th>\n",
       "      <th>directors</th>\n",
       "      <th>writers</th>\n",
       "      <th>studio_name</th>\n",
       "      <th>tomatometer_status</th>\n",
       "    </tr>\n",
       "  </thead>\n",
       "  <tbody>\n",
       "    <tr>\n",
       "      <th>0</th>\n",
       "      <td>83.0</td>\n",
       "      <td>49</td>\n",
       "      <td>144</td>\n",
       "      <td>53.0</td>\n",
       "      <td>62.69</td>\n",
       "      <td>Action &amp; Adventure, Comedy, Drama, Science Fic...</td>\n",
       "      <td>2</td>\n",
       "      <td>4</td>\n",
       "      <td>20th Century Fox</td>\n",
       "      <td>0.0</td>\n",
       "    </tr>\n",
       "    <tr>\n",
       "      <th>1</th>\n",
       "      <td>90.0</td>\n",
       "      <td>86</td>\n",
       "      <td>140</td>\n",
       "      <td>64.0</td>\n",
       "      <td>56.72</td>\n",
       "      <td>Comedy</td>\n",
       "      <td>2</td>\n",
       "      <td>4</td>\n",
       "      <td>Sony Pictures Classics</td>\n",
       "      <td>2.0</td>\n",
       "    </tr>\n",
       "  </tbody>\n",
       "</table>\n",
       "</div>"
      ],
      "text/plain": [
       "   runtime_in_minutes  tomatometer_rating  tomatometer_count  audience_rating  \\\n",
       "0                83.0                  49                144             53.0   \n",
       "1                90.0                  86                140             64.0   \n",
       "\n",
       "   rating                                              genre  directors  \\\n",
       "0   62.69  Action & Adventure, Comedy, Drama, Science Fic...          2   \n",
       "1   56.72                                             Comedy          2   \n",
       "\n",
       "   writers             studio_name  tomatometer_status  \n",
       "0        4        20th Century Fox                 0.0  \n",
       "1        4  Sony Pictures Classics                 2.0  "
      ]
     },
     "execution_count": 75,
     "metadata": {},
     "output_type": "execute_result"
    }
   ],
   "source": [
    "dff.head(2)"
   ]
  },
  {
   "cell_type": "markdown",
   "id": "c843eb14-8abb-4647-bd86-a8611b12487d",
   "metadata": {},
   "source": [
    "# Encoding Categorical variables- studio_name feature "
   ]
  },
  {
   "cell_type": "markdown",
   "id": "731e38e3-b035-49fb-aa4a-e98ee29055a9",
   "metadata": {},
   "source": [
    "#selected the Top Studio_name with more counts and rename rest to 'Others' and encoded using label encoding"
   ]
  },
  {
   "cell_type": "code",
   "execution_count": 78,
   "id": "a0a89d2e-3a72-4d08-b0ce-8656f9cc1778",
   "metadata": {},
   "outputs": [],
   "source": [
    "studio=dff['studio_name'].value_counts()\n",
    "top_studio=studio[studio>350]\n",
    "dff['studio_name']=dff['studio_name'].apply(lambda x: x if x in top_studio else 'Others')\n",
    "from sklearn.preprocessing import LabelEncoder\n",
    "le=LabelEncoder()\n",
    "dff['studio_name']=le.fit_transform(dff['studio_name'])"
   ]
  },
  {
   "cell_type": "markdown",
   "id": "fbda321c-8959-40f1-b4c4-bbaad171d84c",
   "metadata": {},
   "source": [
    "# Handling dates"
   ]
  },
  {
   "cell_type": "markdown",
   "id": "8c2f5003-c149-4fa4-8a97-e65b40f289a8",
   "metadata": {},
   "source": [
    "#Subtracted year of in_theaters_date, on_streaming_date from current year. Categorized them into bins. Encoded by Label encoding"
   ]
  },
  {
   "cell_type": "code",
   "execution_count": 81,
   "id": "4734d5f4-c167-4f82-ba36-117de5e8fb5c",
   "metadata": {},
   "outputs": [],
   "source": [
    "df['in_theaters_date'] = pd.to_datetime(df['in_theaters_date'])\n",
    "df['on_streaming_date'] = pd.to_datetime(df['on_streaming_date'])\n",
    "\n",
    "df['in_theaters_date'] = df['in_theaters_date'].dt.year\n",
    "df['on_streaming_date'] = df['on_streaming_date'].dt.year\n",
    "\n",
    "current_year = pd.to_datetime('today').year\n",
    "\n",
    "df['years_since_theater_release'] = current_year - df['in_theaters_date']\n",
    "df['years_since_on_streaming_date'] = current_year - df['on_streaming_date']"
   ]
  },
  {
   "cell_type": "code",
   "execution_count": 82,
   "id": "1d3c358a-6cff-4797-b86c-e50270caf7ab",
   "metadata": {},
   "outputs": [
    {
     "data": {
      "text/plain": [
       "years_since_on_streaming\n",
       "0-10 years     57.087825\n",
       "10-30 years    61.681494\n",
       "30+ years      52.787611\n",
       "Unknown        75.000000\n",
       "Name: audience_rating, dtype: float64"
      ]
     },
     "execution_count": 82,
     "metadata": {},
     "output_type": "execute_result"
    }
   ],
   "source": [
    "def categorize_rating_a(rating):\n",
    "    if 0 <= rating <= 10:\n",
    "        return '0-10 years'\n",
    "    elif 10 < rating < 30:\n",
    "        return '10-30 years'\n",
    "    elif 30 <= rating <= 100:\n",
    "        return '30+ years'\n",
    "    else:\n",
    "        return 'Unknown'  # For values outside 0-100 range\n",
    "\n",
    "# Apply the function to the 'audience_rating' column\n",
    "df['years_since_on_streaming'] = df['years_since_on_streaming_date'].apply(categorize_rating_a)\n",
    "mean_on_streaming= df.groupby('years_since_on_streaming')['audience_rating'].mean()\n",
    "mean_on_streaming"
   ]
  },
  {
   "cell_type": "code",
   "execution_count": null,
   "id": "ef7a1a2b-916d-4de4-9b01-5d891ceda291",
   "metadata": {},
   "outputs": [],
   "source": []
  },
  {
   "cell_type": "code",
   "execution_count": null,
   "id": "38852f53-542b-4e47-8b3d-05dffa29d703",
   "metadata": {},
   "outputs": [],
   "source": []
  },
  {
   "cell_type": "code",
   "execution_count": 83,
   "id": "b33b7bd6-4867-466b-b66b-44a29303bf7f",
   "metadata": {},
   "outputs": [
    {
     "data": {
      "text/html": [
       "<div>\n",
       "<style scoped>\n",
       "    .dataframe tbody tr th:only-of-type {\n",
       "        vertical-align: middle;\n",
       "    }\n",
       "\n",
       "    .dataframe tbody tr th {\n",
       "        vertical-align: top;\n",
       "    }\n",
       "\n",
       "    .dataframe thead th {\n",
       "        text-align: right;\n",
       "    }\n",
       "</style>\n",
       "<table border=\"1\" class=\"dataframe\">\n",
       "  <thead>\n",
       "    <tr style=\"text-align: right;\">\n",
       "      <th></th>\n",
       "      <th>audience_rating</th>\n",
       "    </tr>\n",
       "    <tr>\n",
       "      <th>years_since_on_streaming</th>\n",
       "      <th></th>\n",
       "    </tr>\n",
       "  </thead>\n",
       "  <tbody>\n",
       "    <tr>\n",
       "      <th>0-10 years</th>\n",
       "      <td>57.087825</td>\n",
       "    </tr>\n",
       "    <tr>\n",
       "      <th>10-30 years</th>\n",
       "      <td>61.681494</td>\n",
       "    </tr>\n",
       "    <tr>\n",
       "      <th>30+ years</th>\n",
       "      <td>52.787611</td>\n",
       "    </tr>\n",
       "  </tbody>\n",
       "</table>\n",
       "</div>"
      ],
      "text/plain": [
       "                          audience_rating\n",
       "years_since_on_streaming                 \n",
       "0-10 years                      57.087825\n",
       "10-30 years                     61.681494\n",
       "30+ years                       52.787611"
      ]
     },
     "execution_count": 83,
     "metadata": {},
     "output_type": "execute_result"
    }
   ],
   "source": [
    "categories_on_streaming_year=df['years_since_on_streaming'].value_counts()\n",
    "categories_on_streaming_year.pop('Unknown')\n",
    "mean_on_streaming.pop('Unknown')\n",
    "mean_on_streaming=pd.DataFrame(mean_on_streaming)\n",
    "mean_on_streaming"
   ]
  },
  {
   "cell_type": "code",
   "execution_count": 84,
   "id": "77157169-0cd4-4b45-b68a-168795b932d3",
   "metadata": {},
   "outputs": [
    {
     "data": {
      "text/plain": [
       "<Axes: xlabel='years_since_on_streaming', ylabel='audience_rating'>"
      ]
     },
     "execution_count": 84,
     "metadata": {},
     "output_type": "execute_result"
    },
    {
     "data": {
      "image/png": "[encoded data removed]",
      "text/plain": [
       "<Figure size 1000x600 with 1 Axes>"
      ]
     },
     "metadata": {},
     "output_type": "display_data"
    }
   ],
   "source": [
    "import matplotlib.pyplot as plt\n",
    "plt.figure(figsize=(10,6))\n",
    "sns.barplot(x=\"years_since_on_streaming\", y=\"audience_rating\" ,hue='years_since_on_streaming',data=mean_on_streaming, palette='Set2')"
   ]
  },
  {
   "cell_type": "code",
   "execution_count": 85,
   "id": "a1441b59-7339-428f-a0ee-e832b996f996",
   "metadata": {},
   "outputs": [
    {
     "data": {
      "text/html": [
       "<div>\n",
       "<style scoped>\n",
       "    .dataframe tbody tr th:only-of-type {\n",
       "        vertical-align: middle;\n",
       "    }\n",
       "\n",
       "    .dataframe tbody tr th {\n",
       "        vertical-align: top;\n",
       "    }\n",
       "\n",
       "    .dataframe thead th {\n",
       "        text-align: right;\n",
       "    }\n",
       "</style>\n",
       "<table border=\"1\" class=\"dataframe\">\n",
       "  <thead>\n",
       "    <tr style=\"text-align: right;\">\n",
       "      <th></th>\n",
       "      <th>audience_rating</th>\n",
       "    </tr>\n",
       "    <tr>\n",
       "      <th>years_since_theater_release</th>\n",
       "      <th></th>\n",
       "    </tr>\n",
       "  </thead>\n",
       "  <tbody>\n",
       "    <tr>\n",
       "      <th>0-40 years</th>\n",
       "      <td>58.880016</td>\n",
       "    </tr>\n",
       "    <tr>\n",
       "      <th>40-80 years</th>\n",
       "      <td>68.497727</td>\n",
       "    </tr>\n",
       "    <tr>\n",
       "      <th>80+ years</th>\n",
       "      <td>73.484848</td>\n",
       "    </tr>\n",
       "    <tr>\n",
       "      <th>Unknown</th>\n",
       "      <td>55.974101</td>\n",
       "    </tr>\n",
       "  </tbody>\n",
       "</table>\n",
       "</div>"
      ],
      "text/plain": [
       "                             audience_rating\n",
       "years_since_theater_release                 \n",
       "0-40 years                         58.880016\n",
       "40-80 years                        68.497727\n",
       "80+ years                          73.484848\n",
       "Unknown                            55.974101"
      ]
     },
     "execution_count": 85,
     "metadata": {},
     "output_type": "execute_result"
    }
   ],
   "source": [
    "def categorize_rating_b(rating):\n",
    "    if 0 <= rating <= 40:\n",
    "        return '0-40 years'\n",
    "    elif 40 < rating <= 80:\n",
    "        return '40-80 years'\n",
    "    elif 80 < rating <= 130:\n",
    "        return '80+ years'\n",
    "    else:\n",
    "        return 'Unknown'  # For values outside 0-100 range\n",
    "\n",
    "# Apply the function to the 'audience_rating' column\n",
    "df['years_since_theater_release'] = df['years_since_theater_release'].apply(categorize_rating_b)\n",
    "mean_theater_release= df.groupby('years_since_theater_release')['audience_rating'].mean()\n",
    "\n",
    "categories_theater_release=df['years_since_theater_release'].value_counts()\n",
    "mean_on_theatre=pd.DataFrame(mean_theater_release)\n",
    "mean_on_theatre"
   ]
  },
  {
   "cell_type": "code",
   "execution_count": 86,
   "id": "a1bf6a6c-04b3-445b-b2f9-10665b9bb9c9",
   "metadata": {},
   "outputs": [
    {
     "data": {
      "text/plain": [
       "<Axes: xlabel='years_since_theater_release', ylabel='audience_rating'>"
      ]
     },
     "execution_count": 86,
     "metadata": {},
     "output_type": "execute_result"
    },
    {
     "data": {
      "image/png": "[encoded data removed]",
      "text/plain": [
       "<Figure size 1000x600 with 1 Axes>"
      ]
     },
     "metadata": {},
     "output_type": "display_data"
    }
   ],
   "source": [
    "plt.figure(figsize=(10,6))\n",
    "sns.barplot(x=\"years_since_theater_release\", y=\"audience_rating\" ,hue='years_since_theater_release',data=mean_on_theatre,palette='Set2')"
   ]
  },
  {
   "cell_type": "code",
   "execution_count": 87,
   "id": "bf3b4f38-0b19-43a4-bb25-54c29ecd7835",
   "metadata": {},
   "outputs": [],
   "source": [
    "from sklearn.preprocessing import LabelEncoder\n",
    "\n",
    "# Initialize the LabelEncoder\n",
    "label_encoder_tr = LabelEncoder()\n",
    "label_encoder_os = LabelEncoder()\n",
    "# Apply label encoding to the 'release_year_bin'\n",
    "df['encoded_release_year'] = label_encoder_tr.fit_transform(df['years_since_theater_release'])\n",
    "df['encoded_on_streaming_date'] = label_encoder_os.fit_transform(df['years_since_on_streaming'])"
   ]
  },
  {
   "cell_type": "code",
   "execution_count": 88,
   "id": "809c9637-39c7-4438-b01b-fc0107b23789",
   "metadata": {},
   "outputs": [],
   "source": [
    "date=df[['encoded_release_year', 'encoded_on_streaming_date']]\n",
    "one_hot_genre=df[one_hot]\n",
    "dff.drop('genre',axis=1,inplace=True)\n",
    "df_n=pd.concat([dff,date,one_hot_genre],axis=1)"
   ]
  },
  {
   "cell_type": "markdown",
   "id": "a2648285-6cb3-4daf-8467-301372c67455",
   "metadata": {},
   "source": [
    "#Check the correlation with the target audience_rating"
   ]
  },
  {
   "cell_type": "code",
   "execution_count": 90,
   "id": "e821991e-b483-40c7-9a83-6bdd0c568fd5",
   "metadata": {},
   "outputs": [
    {
     "data": {
      "text/html": [
       "<div>\n",
       "<style scoped>\n",
       "    .dataframe tbody tr th:only-of-type {\n",
       "        vertical-align: middle;\n",
       "    }\n",
       "\n",
       "    .dataframe tbody tr th {\n",
       "        vertical-align: top;\n",
       "    }\n",
       "\n",
       "    .dataframe thead th {\n",
       "        text-align: right;\n",
       "    }\n",
       "</style>\n",
       "<table border=\"1\" class=\"dataframe\">\n",
       "  <thead>\n",
       "    <tr style=\"text-align: right;\">\n",
       "      <th></th>\n",
       "      <th>runtime_in_minutes</th>\n",
       "      <th>tomatometer_rating</th>\n",
       "      <th>tomatometer_count</th>\n",
       "      <th>audience_rating</th>\n",
       "      <th>rating</th>\n",
       "      <th>directors</th>\n",
       "      <th>writers</th>\n",
       "      <th>studio_name</th>\n",
       "      <th>tomatometer_status</th>\n",
       "      <th>encoded_release_year</th>\n",
       "      <th>encoded_on_streaming_date</th>\n",
       "      <th>Drama</th>\n",
       "      <th>Comedy</th>\n",
       "      <th>Action &amp; Adventure</th>\n",
       "      <th>Mystery &amp; Suspense</th>\n",
       "      <th>Art House &amp; International</th>\n",
       "      <th>Horror</th>\n",
       "      <th>Documentary</th>\n",
       "      <th>Romance</th>\n",
       "      <th>Science Fiction &amp; Fantasy</th>\n",
       "      <th>Classics</th>\n",
       "      <th>Special Interest</th>\n",
       "      <th>Kids &amp; Family</th>\n",
       "      <th>Musical &amp; Performing Arts</th>\n",
       "    </tr>\n",
       "  </thead>\n",
       "  <tbody>\n",
       "    <tr>\n",
       "      <th>runtime_in_minutes</th>\n",
       "      <td>1.000000</td>\n",
       "      <td>0.075243</td>\n",
       "      <td>0.186956</td>\n",
       "      <td>0.166482</td>\n",
       "      <td>-0.083530</td>\n",
       "      <td>-0.006185</td>\n",
       "      <td>-0.008349</td>\n",
       "      <td>0.066751</td>\n",
       "      <td>0.106942</td>\n",
       "      <td>-0.032378</td>\n",
       "      <td>0.044185</td>\n",
       "      <td>0.193026</td>\n",
       "      <td>-0.077236</td>\n",
       "      <td>0.086968</td>\n",
       "      <td>0.034508</td>\n",
       "      <td>0.051612</td>\n",
       "      <td>-0.095678</td>\n",
       "      <td>-0.141158</td>\n",
       "      <td>0.077359</td>\n",
       "      <td>0.004140</td>\n",
       "      <td>0.081153</td>\n",
       "      <td>-0.102848</td>\n",
       "      <td>-0.086437</td>\n",
       "      <td>0.003322</td>\n",
       "    </tr>\n",
       "    <tr>\n",
       "      <th>tomatometer_rating</th>\n",
       "      <td>0.075243</td>\n",
       "      <td>1.000000</td>\n",
       "      <td>0.084345</td>\n",
       "      <td>0.660532</td>\n",
       "      <td>0.244586</td>\n",
       "      <td>-0.010758</td>\n",
       "      <td>-0.004218</td>\n",
       "      <td>-0.023975</td>\n",
       "      <td>0.807759</td>\n",
       "      <td>0.182691</td>\n",
       "      <td>-0.031885</td>\n",
       "      <td>0.101860</td>\n",
       "      <td>-0.138263</td>\n",
       "      <td>-0.114001</td>\n",
       "      <td>-0.091669</td>\n",
       "      <td>0.150865</td>\n",
       "      <td>-0.120412</td>\n",
       "      <td>0.250627</td>\n",
       "      <td>0.003843</td>\n",
       "      <td>-0.061279</td>\n",
       "      <td>0.215417</td>\n",
       "      <td>0.168109</td>\n",
       "      <td>-0.048667</td>\n",
       "      <td>0.095091</td>\n",
       "    </tr>\n",
       "    <tr>\n",
       "      <th>tomatometer_count</th>\n",
       "      <td>0.186956</td>\n",
       "      <td>0.084345</td>\n",
       "      <td>1.000000</td>\n",
       "      <td>0.142458</td>\n",
       "      <td>-0.265905</td>\n",
       "      <td>0.033855</td>\n",
       "      <td>0.029420</td>\n",
       "      <td>0.124022</td>\n",
       "      <td>0.276627</td>\n",
       "      <td>-0.257612</td>\n",
       "      <td>-0.123677</td>\n",
       "      <td>0.039136</td>\n",
       "      <td>0.010688</td>\n",
       "      <td>0.116880</td>\n",
       "      <td>0.026780</td>\n",
       "      <td>-0.102924</td>\n",
       "      <td>-0.059900</td>\n",
       "      <td>-0.118988</td>\n",
       "      <td>-0.000582</td>\n",
       "      <td>0.125791</td>\n",
       "      <td>-0.171419</td>\n",
       "      <td>-0.087180</td>\n",
       "      <td>0.032460</td>\n",
       "      <td>-0.059218</td>\n",
       "    </tr>\n",
       "    <tr>\n",
       "      <th>audience_rating</th>\n",
       "      <td>0.166482</td>\n",
       "      <td>0.660532</td>\n",
       "      <td>0.142458</td>\n",
       "      <td>1.000000</td>\n",
       "      <td>0.168078</td>\n",
       "      <td>0.001358</td>\n",
       "      <td>-0.002827</td>\n",
       "      <td>0.029182</td>\n",
       "      <td>0.582871</td>\n",
       "      <td>0.076357</td>\n",
       "      <td>0.088392</td>\n",
       "      <td>0.140569</td>\n",
       "      <td>-0.075872</td>\n",
       "      <td>-0.069749</td>\n",
       "      <td>-0.158211</td>\n",
       "      <td>0.124183</td>\n",
       "      <td>-0.246939</td>\n",
       "      <td>0.215934</td>\n",
       "      <td>0.053345</td>\n",
       "      <td>-0.071565</td>\n",
       "      <td>0.174086</td>\n",
       "      <td>0.156507</td>\n",
       "      <td>-0.005485</td>\n",
       "      <td>0.128590</td>\n",
       "    </tr>\n",
       "    <tr>\n",
       "      <th>rating</th>\n",
       "      <td>-0.083530</td>\n",
       "      <td>0.244586</td>\n",
       "      <td>-0.265905</td>\n",
       "      <td>0.168078</td>\n",
       "      <td>1.000000</td>\n",
       "      <td>-0.013473</td>\n",
       "      <td>0.009190</td>\n",
       "      <td>-0.074906</td>\n",
       "      <td>0.104529</td>\n",
       "      <td>0.261117</td>\n",
       "      <td>-0.061879</td>\n",
       "      <td>-0.115508</td>\n",
       "      <td>-0.036070</td>\n",
       "      <td>-0.059003</td>\n",
       "      <td>-0.181421</td>\n",
       "      <td>0.063338</td>\n",
       "      <td>-0.117429</td>\n",
       "      <td>0.223835</td>\n",
       "      <td>0.009011</td>\n",
       "      <td>0.043947</td>\n",
       "      <td>0.272953</td>\n",
       "      <td>0.146171</td>\n",
       "      <td>0.286264</td>\n",
       "      <td>0.133608</td>\n",
       "    </tr>\n",
       "    <tr>\n",
       "      <th>directors</th>\n",
       "      <td>-0.006185</td>\n",
       "      <td>-0.010758</td>\n",
       "      <td>0.033855</td>\n",
       "      <td>0.001358</td>\n",
       "      <td>-0.013473</td>\n",
       "      <td>1.000000</td>\n",
       "      <td>0.309976</td>\n",
       "      <td>-0.035753</td>\n",
       "      <td>0.000265</td>\n",
       "      <td>-0.050730</td>\n",
       "      <td>-0.011959</td>\n",
       "      <td>-0.005837</td>\n",
       "      <td>0.039595</td>\n",
       "      <td>-0.004038</td>\n",
       "      <td>-0.058786</td>\n",
       "      <td>0.001068</td>\n",
       "      <td>-0.005828</td>\n",
       "      <td>-0.001818</td>\n",
       "      <td>0.014729</td>\n",
       "      <td>0.019102</td>\n",
       "      <td>-0.089874</td>\n",
       "      <td>-0.002621</td>\n",
       "      <td>0.007675</td>\n",
       "      <td>-0.003062</td>\n",
       "    </tr>\n",
       "    <tr>\n",
       "      <th>writers</th>\n",
       "      <td>-0.008349</td>\n",
       "      <td>-0.004218</td>\n",
       "      <td>0.029420</td>\n",
       "      <td>-0.002827</td>\n",
       "      <td>0.009190</td>\n",
       "      <td>0.309976</td>\n",
       "      <td>1.000000</td>\n",
       "      <td>-0.015203</td>\n",
       "      <td>-0.001991</td>\n",
       "      <td>-0.011374</td>\n",
       "      <td>-0.019883</td>\n",
       "      <td>-0.010837</td>\n",
       "      <td>0.014196</td>\n",
       "      <td>-0.001505</td>\n",
       "      <td>-0.018276</td>\n",
       "      <td>-0.010837</td>\n",
       "      <td>0.004888</td>\n",
       "      <td>0.016808</td>\n",
       "      <td>0.019491</td>\n",
       "      <td>-0.001308</td>\n",
       "      <td>-0.004403</td>\n",
       "      <td>0.005597</td>\n",
       "      <td>-0.008556</td>\n",
       "      <td>-0.002422</td>\n",
       "    </tr>\n",
       "    <tr>\n",
       "      <th>studio_name</th>\n",
       "      <td>0.066751</td>\n",
       "      <td>-0.023975</td>\n",
       "      <td>0.124022</td>\n",
       "      <td>0.029182</td>\n",
       "      <td>-0.074906</td>\n",
       "      <td>-0.035753</td>\n",
       "      <td>-0.015203</td>\n",
       "      <td>1.000000</td>\n",
       "      <td>-0.018677</td>\n",
       "      <td>-0.001604</td>\n",
       "      <td>0.079873</td>\n",
       "      <td>0.003372</td>\n",
       "      <td>0.024748</td>\n",
       "      <td>0.072595</td>\n",
       "      <td>0.029438</td>\n",
       "      <td>-0.074212</td>\n",
       "      <td>0.015353</td>\n",
       "      <td>-0.070157</td>\n",
       "      <td>0.016652</td>\n",
       "      <td>0.049558</td>\n",
       "      <td>0.034638</td>\n",
       "      <td>-0.046648</td>\n",
       "      <td>0.022522</td>\n",
       "      <td>0.000393</td>\n",
       "    </tr>\n",
       "    <tr>\n",
       "      <th>tomatometer_status</th>\n",
       "      <td>0.106942</td>\n",
       "      <td>0.807759</td>\n",
       "      <td>0.276627</td>\n",
       "      <td>0.582871</td>\n",
       "      <td>0.104529</td>\n",
       "      <td>0.000265</td>\n",
       "      <td>-0.001991</td>\n",
       "      <td>-0.018677</td>\n",
       "      <td>1.000000</td>\n",
       "      <td>0.045990</td>\n",
       "      <td>-0.053661</td>\n",
       "      <td>0.089652</td>\n",
       "      <td>-0.103232</td>\n",
       "      <td>-0.084458</td>\n",
       "      <td>-0.067935</td>\n",
       "      <td>0.118990</td>\n",
       "      <td>-0.106353</td>\n",
       "      <td>0.175740</td>\n",
       "      <td>-0.014757</td>\n",
       "      <td>-0.035142</td>\n",
       "      <td>0.094704</td>\n",
       "      <td>0.115151</td>\n",
       "      <td>-0.034436</td>\n",
       "      <td>0.050459</td>\n",
       "    </tr>\n",
       "    <tr>\n",
       "      <th>encoded_release_year</th>\n",
       "      <td>-0.032378</td>\n",
       "      <td>0.182691</td>\n",
       "      <td>-0.257612</td>\n",
       "      <td>0.076357</td>\n",
       "      <td>0.261117</td>\n",
       "      <td>-0.050730</td>\n",
       "      <td>-0.011374</td>\n",
       "      <td>-0.001604</td>\n",
       "      <td>0.045990</td>\n",
       "      <td>1.000000</td>\n",
       "      <td>0.032915</td>\n",
       "      <td>-0.012418</td>\n",
       "      <td>-0.034334</td>\n",
       "      <td>0.012054</td>\n",
       "      <td>-0.003718</td>\n",
       "      <td>-0.001471</td>\n",
       "      <td>0.054666</td>\n",
       "      <td>-0.049327</td>\n",
       "      <td>0.031383</td>\n",
       "      <td>0.009340</td>\n",
       "      <td>0.407966</td>\n",
       "      <td>-0.054215</td>\n",
       "      <td>-0.000228</td>\n",
       "      <td>0.041845</td>\n",
       "    </tr>\n",
       "    <tr>\n",
       "      <th>encoded_on_streaming_date</th>\n",
       "      <td>0.044185</td>\n",
       "      <td>-0.031885</td>\n",
       "      <td>-0.123677</td>\n",
       "      <td>0.088392</td>\n",
       "      <td>-0.061879</td>\n",
       "      <td>-0.011959</td>\n",
       "      <td>-0.019883</td>\n",
       "      <td>0.079873</td>\n",
       "      <td>-0.053661</td>\n",
       "      <td>0.032915</td>\n",
       "      <td>1.000000</td>\n",
       "      <td>0.066204</td>\n",
       "      <td>0.112084</td>\n",
       "      <td>0.060719</td>\n",
       "      <td>0.021986</td>\n",
       "      <td>0.073002</td>\n",
       "      <td>0.013002</td>\n",
       "      <td>-0.079786</td>\n",
       "      <td>0.076791</td>\n",
       "      <td>0.037944</td>\n",
       "      <td>0.184046</td>\n",
       "      <td>0.032548</td>\n",
       "      <td>0.063972</td>\n",
       "      <td>0.073429</td>\n",
       "    </tr>\n",
       "    <tr>\n",
       "      <th>Drama</th>\n",
       "      <td>0.193026</td>\n",
       "      <td>0.101860</td>\n",
       "      <td>0.039136</td>\n",
       "      <td>0.140569</td>\n",
       "      <td>-0.115508</td>\n",
       "      <td>-0.005837</td>\n",
       "      <td>-0.010837</td>\n",
       "      <td>0.003372</td>\n",
       "      <td>0.089652</td>\n",
       "      <td>-0.012418</td>\n",
       "      <td>0.066204</td>\n",
       "      <td>1.000000</td>\n",
       "      <td>-0.169286</td>\n",
       "      <td>-0.058810</td>\n",
       "      <td>0.071903</td>\n",
       "      <td>0.165928</td>\n",
       "      <td>-0.212924</td>\n",
       "      <td>-0.292534</td>\n",
       "      <td>0.113558</td>\n",
       "      <td>-0.143994</td>\n",
       "      <td>0.086443</td>\n",
       "      <td>-0.180905</td>\n",
       "      <td>-0.152603</td>\n",
       "      <td>-0.072075</td>\n",
       "    </tr>\n",
       "    <tr>\n",
       "      <th>Comedy</th>\n",
       "      <td>-0.077236</td>\n",
       "      <td>-0.138263</td>\n",
       "      <td>0.010688</td>\n",
       "      <td>-0.075872</td>\n",
       "      <td>-0.036070</td>\n",
       "      <td>0.039595</td>\n",
       "      <td>0.014196</td>\n",
       "      <td>0.024748</td>\n",
       "      <td>-0.103232</td>\n",
       "      <td>-0.034334</td>\n",
       "      <td>0.112084</td>\n",
       "      <td>-0.169286</td>\n",
       "      <td>1.000000</td>\n",
       "      <td>-0.106998</td>\n",
       "      <td>-0.242378</td>\n",
       "      <td>-0.037278</td>\n",
       "      <td>-0.147931</td>\n",
       "      <td>-0.203486</td>\n",
       "      <td>0.151974</td>\n",
       "      <td>-0.052968</td>\n",
       "      <td>-0.024702</td>\n",
       "      <td>-0.135291</td>\n",
       "      <td>0.098312</td>\n",
       "      <td>0.008280</td>\n",
       "    </tr>\n",
       "    <tr>\n",
       "      <th>Action &amp; Adventure</th>\n",
       "      <td>0.086968</td>\n",
       "      <td>-0.114001</td>\n",
       "      <td>0.116880</td>\n",
       "      <td>-0.069749</td>\n",
       "      <td>-0.059003</td>\n",
       "      <td>-0.004038</td>\n",
       "      <td>-0.001505</td>\n",
       "      <td>0.072595</td>\n",
       "      <td>-0.084458</td>\n",
       "      <td>0.012054</td>\n",
       "      <td>0.060719</td>\n",
       "      <td>-0.058810</td>\n",
       "      <td>-0.106998</td>\n",
       "      <td>1.000000</td>\n",
       "      <td>0.111893</td>\n",
       "      <td>-0.032969</td>\n",
       "      <td>-0.072180</td>\n",
       "      <td>-0.156178</td>\n",
       "      <td>-0.098170</td>\n",
       "      <td>0.205282</td>\n",
       "      <td>0.032556</td>\n",
       "      <td>-0.118056</td>\n",
       "      <td>0.085509</td>\n",
       "      <td>-0.091192</td>\n",
       "    </tr>\n",
       "    <tr>\n",
       "      <th>Mystery &amp; Suspense</th>\n",
       "      <td>0.034508</td>\n",
       "      <td>-0.091669</td>\n",
       "      <td>0.026780</td>\n",
       "      <td>-0.158211</td>\n",
       "      <td>-0.181421</td>\n",
       "      <td>-0.058786</td>\n",
       "      <td>-0.018276</td>\n",
       "      <td>0.029438</td>\n",
       "      <td>-0.067935</td>\n",
       "      <td>-0.003718</td>\n",
       "      <td>0.021986</td>\n",
       "      <td>0.071903</td>\n",
       "      <td>-0.242378</td>\n",
       "      <td>0.111893</td>\n",
       "      <td>1.000000</td>\n",
       "      <td>-0.023905</td>\n",
       "      <td>0.194868</td>\n",
       "      <td>-0.167151</td>\n",
       "      <td>-0.105102</td>\n",
       "      <td>0.011627</td>\n",
       "      <td>0.003146</td>\n",
       "      <td>-0.114278</td>\n",
       "      <td>-0.111632</td>\n",
       "      <td>-0.107945</td>\n",
       "    </tr>\n",
       "    <tr>\n",
       "      <th>Art House &amp; International</th>\n",
       "      <td>0.051612</td>\n",
       "      <td>0.150865</td>\n",
       "      <td>-0.102924</td>\n",
       "      <td>0.124183</td>\n",
       "      <td>0.063338</td>\n",
       "      <td>0.001068</td>\n",
       "      <td>-0.010837</td>\n",
       "      <td>-0.074212</td>\n",
       "      <td>0.118990</td>\n",
       "      <td>-0.001471</td>\n",
       "      <td>0.073002</td>\n",
       "      <td>0.165928</td>\n",
       "      <td>-0.037278</td>\n",
       "      <td>-0.032969</td>\n",
       "      <td>-0.023905</td>\n",
       "      <td>1.000000</td>\n",
       "      <td>-0.026807</td>\n",
       "      <td>-0.052525</td>\n",
       "      <td>0.013733</td>\n",
       "      <td>-0.042533</td>\n",
       "      <td>-0.038387</td>\n",
       "      <td>-0.004236</td>\n",
       "      <td>-0.071361</td>\n",
       "      <td>-0.027761</td>\n",
       "    </tr>\n",
       "    <tr>\n",
       "      <th>Horror</th>\n",
       "      <td>-0.095678</td>\n",
       "      <td>-0.120412</td>\n",
       "      <td>-0.059900</td>\n",
       "      <td>-0.246939</td>\n",
       "      <td>-0.117429</td>\n",
       "      <td>-0.005828</td>\n",
       "      <td>0.004888</td>\n",
       "      <td>0.015353</td>\n",
       "      <td>-0.106353</td>\n",
       "      <td>0.054666</td>\n",
       "      <td>0.013002</td>\n",
       "      <td>-0.212924</td>\n",
       "      <td>-0.147931</td>\n",
       "      <td>-0.072180</td>\n",
       "      <td>0.194868</td>\n",
       "      <td>-0.026807</td>\n",
       "      <td>1.000000</td>\n",
       "      <td>-0.119234</td>\n",
       "      <td>-0.099831</td>\n",
       "      <td>0.125466</td>\n",
       "      <td>-0.011279</td>\n",
       "      <td>-0.077399</td>\n",
       "      <td>-0.083215</td>\n",
       "      <td>-0.070540</td>\n",
       "    </tr>\n",
       "    <tr>\n",
       "      <th>Documentary</th>\n",
       "      <td>-0.141158</td>\n",
       "      <td>0.250627</td>\n",
       "      <td>-0.118988</td>\n",
       "      <td>0.215934</td>\n",
       "      <td>0.223835</td>\n",
       "      <td>-0.001818</td>\n",
       "      <td>0.016808</td>\n",
       "      <td>-0.070157</td>\n",
       "      <td>0.175740</td>\n",
       "      <td>-0.049327</td>\n",
       "      <td>-0.079786</td>\n",
       "      <td>-0.292534</td>\n",
       "      <td>-0.203486</td>\n",
       "      <td>-0.156178</td>\n",
       "      <td>-0.167151</td>\n",
       "      <td>-0.052525</td>\n",
       "      <td>-0.119234</td>\n",
       "      <td>1.000000</td>\n",
       "      <td>-0.115494</td>\n",
       "      <td>-0.114570</td>\n",
       "      <td>-0.097559</td>\n",
       "      <td>0.636119</td>\n",
       "      <td>-0.068690</td>\n",
       "      <td>0.205058</td>\n",
       "    </tr>\n",
       "    <tr>\n",
       "      <th>Romance</th>\n",
       "      <td>0.077359</td>\n",
       "      <td>0.003843</td>\n",
       "      <td>-0.000582</td>\n",
       "      <td>0.053345</td>\n",
       "      <td>0.009011</td>\n",
       "      <td>0.014729</td>\n",
       "      <td>0.019491</td>\n",
       "      <td>0.016652</td>\n",
       "      <td>-0.014757</td>\n",
       "      <td>0.031383</td>\n",
       "      <td>0.076791</td>\n",
       "      <td>0.113558</td>\n",
       "      <td>0.151974</td>\n",
       "      <td>-0.098170</td>\n",
       "      <td>-0.105102</td>\n",
       "      <td>0.013733</td>\n",
       "      <td>-0.099831</td>\n",
       "      <td>-0.115494</td>\n",
       "      <td>1.000000</td>\n",
       "      <td>-0.046846</td>\n",
       "      <td>0.105061</td>\n",
       "      <td>-0.076455</td>\n",
       "      <td>-0.054183</td>\n",
       "      <td>0.058615</td>\n",
       "    </tr>\n",
       "    <tr>\n",
       "      <th>Science Fiction &amp; Fantasy</th>\n",
       "      <td>0.004140</td>\n",
       "      <td>-0.061279</td>\n",
       "      <td>0.125791</td>\n",
       "      <td>-0.071565</td>\n",
       "      <td>0.043947</td>\n",
       "      <td>0.019102</td>\n",
       "      <td>-0.001308</td>\n",
       "      <td>0.049558</td>\n",
       "      <td>-0.035142</td>\n",
       "      <td>0.009340</td>\n",
       "      <td>0.037944</td>\n",
       "      <td>-0.143994</td>\n",
       "      <td>-0.052968</td>\n",
       "      <td>0.205282</td>\n",
       "      <td>0.011627</td>\n",
       "      <td>-0.042533</td>\n",
       "      <td>0.125466</td>\n",
       "      <td>-0.114570</td>\n",
       "      <td>-0.046846</td>\n",
       "      <td>1.000000</td>\n",
       "      <td>-0.000207</td>\n",
       "      <td>-0.068199</td>\n",
       "      <td>0.143183</td>\n",
       "      <td>-0.036139</td>\n",
       "    </tr>\n",
       "    <tr>\n",
       "      <th>Classics</th>\n",
       "      <td>0.081153</td>\n",
       "      <td>0.215417</td>\n",
       "      <td>-0.171419</td>\n",
       "      <td>0.174086</td>\n",
       "      <td>0.272953</td>\n",
       "      <td>-0.089874</td>\n",
       "      <td>-0.004403</td>\n",
       "      <td>0.034638</td>\n",
       "      <td>0.094704</td>\n",
       "      <td>0.407966</td>\n",
       "      <td>0.184046</td>\n",
       "      <td>0.086443</td>\n",
       "      <td>-0.024702</td>\n",
       "      <td>0.032556</td>\n",
       "      <td>0.003146</td>\n",
       "      <td>-0.038387</td>\n",
       "      <td>-0.011279</td>\n",
       "      <td>-0.097559</td>\n",
       "      <td>0.105061</td>\n",
       "      <td>-0.000207</td>\n",
       "      <td>1.000000</td>\n",
       "      <td>-0.064339</td>\n",
       "      <td>-0.012680</td>\n",
       "      <td>0.073134</td>\n",
       "    </tr>\n",
       "    <tr>\n",
       "      <th>Special Interest</th>\n",
       "      <td>-0.102848</td>\n",
       "      <td>0.168109</td>\n",
       "      <td>-0.087180</td>\n",
       "      <td>0.156507</td>\n",
       "      <td>0.146171</td>\n",
       "      <td>-0.002621</td>\n",
       "      <td>0.005597</td>\n",
       "      <td>-0.046648</td>\n",
       "      <td>0.115151</td>\n",
       "      <td>-0.054215</td>\n",
       "      <td>0.032548</td>\n",
       "      <td>-0.180905</td>\n",
       "      <td>-0.135291</td>\n",
       "      <td>-0.118056</td>\n",
       "      <td>-0.114278</td>\n",
       "      <td>-0.004236</td>\n",
       "      <td>-0.077399</td>\n",
       "      <td>0.636119</td>\n",
       "      <td>-0.076455</td>\n",
       "      <td>-0.068199</td>\n",
       "      <td>-0.064339</td>\n",
       "      <td>1.000000</td>\n",
       "      <td>-0.046826</td>\n",
       "      <td>0.103688</td>\n",
       "    </tr>\n",
       "    <tr>\n",
       "      <th>Kids &amp; Family</th>\n",
       "      <td>-0.086437</td>\n",
       "      <td>-0.048667</td>\n",
       "      <td>0.032460</td>\n",
       "      <td>-0.005485</td>\n",
       "      <td>0.286264</td>\n",
       "      <td>0.007675</td>\n",
       "      <td>-0.008556</td>\n",
       "      <td>0.022522</td>\n",
       "      <td>-0.034436</td>\n",
       "      <td>-0.000228</td>\n",
       "      <td>0.063972</td>\n",
       "      <td>-0.152603</td>\n",
       "      <td>0.098312</td>\n",
       "      <td>0.085509</td>\n",
       "      <td>-0.111632</td>\n",
       "      <td>-0.071361</td>\n",
       "      <td>-0.083215</td>\n",
       "      <td>-0.068690</td>\n",
       "      <td>-0.054183</td>\n",
       "      <td>0.143183</td>\n",
       "      <td>-0.012680</td>\n",
       "      <td>-0.046826</td>\n",
       "      <td>1.000000</td>\n",
       "      <td>0.027659</td>\n",
       "    </tr>\n",
       "    <tr>\n",
       "      <th>Musical &amp; Performing Arts</th>\n",
       "      <td>0.003322</td>\n",
       "      <td>0.095091</td>\n",
       "      <td>-0.059218</td>\n",
       "      <td>0.128590</td>\n",
       "      <td>0.133608</td>\n",
       "      <td>-0.003062</td>\n",
       "      <td>-0.002422</td>\n",
       "      <td>0.000393</td>\n",
       "      <td>0.050459</td>\n",
       "      <td>0.041845</td>\n",
       "      <td>0.073429</td>\n",
       "      <td>-0.072075</td>\n",
       "      <td>0.008280</td>\n",
       "      <td>-0.091192</td>\n",
       "      <td>-0.107945</td>\n",
       "      <td>-0.027761</td>\n",
       "      <td>-0.070540</td>\n",
       "      <td>0.205058</td>\n",
       "      <td>0.058615</td>\n",
       "      <td>-0.036139</td>\n",
       "      <td>0.073134</td>\n",
       "      <td>0.103688</td>\n",
       "      <td>0.027659</td>\n",
       "      <td>1.000000</td>\n",
       "    </tr>\n",
       "  </tbody>\n",
       "</table>\n",
       "</div>"
      ],
      "text/plain": [
       "                           runtime_in_minutes  tomatometer_rating  \\\n",
       "runtime_in_minutes                   1.000000            0.075243   \n",
       "tomatometer_rating                   0.075243            1.000000   \n",
       "tomatometer_count                    0.186956            0.084345   \n",
       "audience_rating                      0.166482            0.660532   \n",
       "rating                              -0.083530            0.244586   \n",
       "directors                           -0.006185           -0.010758   \n",
       "writers                             -0.008349           -0.004218   \n",
       "studio_name                          0.066751           -0.023975   \n",
       "tomatometer_status                   0.106942            0.807759   \n",
       "encoded_release_year                -0.032378            0.182691   \n",
       "encoded_on_streaming_date            0.044185           -0.031885   \n",
       "Drama                                0.193026            0.101860   \n",
       "Comedy                              -0.077236           -0.138263   \n",
       "Action & Adventure                   0.086968           -0.114001   \n",
       "Mystery & Suspense                   0.034508           -0.091669   \n",
       "Art House & International            0.051612            0.150865   \n",
       "Horror                              -0.095678           -0.120412   \n",
       "Documentary                         -0.141158            0.250627   \n",
       "Romance                              0.077359            0.003843   \n",
       "Science Fiction & Fantasy            0.004140           -0.061279   \n",
       "Classics                             0.081153            0.215417   \n",
       "Special Interest                    -0.102848            0.168109   \n",
       "Kids & Family                       -0.086437           -0.048667   \n",
       "Musical & Performing Arts            0.003322            0.095091   \n",
       "\n",
       "                           tomatometer_count  audience_rating    rating  \\\n",
       "runtime_in_minutes                  0.186956         0.166482 -0.083530   \n",
       "tomatometer_rating                  0.084345         0.660532  0.244586   \n",
       "tomatometer_count                   1.000000         0.142458 -0.265905   \n",
       "audience_rating                     0.142458         1.000000  0.168078   \n",
       "rating                             -0.265905         0.168078  1.000000   \n",
       "directors                           0.033855         0.001358 -0.013473   \n",
       "writers                             0.029420        -0.002827  0.009190   \n",
       "studio_name                         0.124022         0.029182 -0.074906   \n",
       "tomatometer_status                  0.276627         0.582871  0.104529   \n",
       "encoded_release_year               -0.257612         0.076357  0.261117   \n",
       "encoded_on_streaming_date          -0.123677         0.088392 -0.061879   \n",
       "Drama                               0.039136         0.140569 -0.115508   \n",
       "Comedy                              0.010688        -0.075872 -0.036070   \n",
       "Action & Adventure                  0.116880        -0.069749 -0.059003   \n",
       "Mystery & Suspense                  0.026780        -0.158211 -0.181421   \n",
       "Art House & International          -0.102924         0.124183  0.063338   \n",
       "Horror                             -0.059900        -0.246939 -0.117429   \n",
       "Documentary                        -0.118988         0.215934  0.223835   \n",
       "Romance                            -0.000582         0.053345  0.009011   \n",
       "Science Fiction & Fantasy           0.125791        -0.071565  0.043947   \n",
       "Classics                           -0.171419         0.174086  0.272953   \n",
       "Special Interest                   -0.087180         0.156507  0.146171   \n",
       "Kids & Family                       0.032460        -0.005485  0.286264   \n",
       "Musical & Performing Arts          -0.059218         0.128590  0.133608   \n",
       "\n",
       "                           directors   writers  studio_name  \\\n",
       "runtime_in_minutes         -0.006185 -0.008349     0.066751   \n",
       "tomatometer_rating         -0.010758 -0.004218    -0.023975   \n",
       "tomatometer_count           0.033855  0.029420     0.124022   \n",
       "audience_rating             0.001358 -0.002827     0.029182   \n",
       "rating                     -0.013473  0.009190    -0.074906   \n",
       "directors                   1.000000  0.309976    -0.035753   \n",
       "writers                     0.309976  1.000000    -0.015203   \n",
       "studio_name                -0.035753 -0.015203     1.000000   \n",
       "tomatometer_status          0.000265 -0.001991    -0.018677   \n",
       "encoded_release_year       -0.050730 -0.011374    -0.001604   \n",
       "encoded_on_streaming_date  -0.011959 -0.019883     0.079873   \n",
       "Drama                      -0.005837 -0.010837     0.003372   \n",
       "Comedy                      0.039595  0.014196     0.024748   \n",
       "Action & Adventure         -0.004038 -0.001505     0.072595   \n",
       "Mystery & Suspense         -0.058786 -0.018276     0.029438   \n",
       "Art House & International   0.001068 -0.010837    -0.074212   \n",
       "Horror                     -0.005828  0.004888     0.015353   \n",
       "Documentary                -0.001818  0.016808    -0.070157   \n",
       "Romance                     0.014729  0.019491     0.016652   \n",
       "Science Fiction & Fantasy   0.019102 -0.001308     0.049558   \n",
       "Classics                   -0.089874 -0.004403     0.034638   \n",
       "Special Interest           -0.002621  0.005597    -0.046648   \n",
       "Kids & Family               0.007675 -0.008556     0.022522   \n",
       "Musical & Performing Arts  -0.003062 -0.002422     0.000393   \n",
       "\n",
       "                           tomatometer_status  encoded_release_year  \\\n",
       "runtime_in_minutes                   0.106942             -0.032378   \n",
       "tomatometer_rating                   0.807759              0.182691   \n",
       "tomatometer_count                    0.276627             -0.257612   \n",
       "audience_rating                      0.582871              0.076357   \n",
       "rating                               0.104529              0.261117   \n",
       "directors                            0.000265             -0.050730   \n",
       "writers                             -0.001991             -0.011374   \n",
       "studio_name                         -0.018677             -0.001604   \n",
       "tomatometer_status                   1.000000              0.045990   \n",
       "encoded_release_year                 0.045990              1.000000   \n",
       "encoded_on_streaming_date           -0.053661              0.032915   \n",
       "Drama                                0.089652             -0.012418   \n",
       "Comedy                              -0.103232             -0.034334   \n",
       "Action & Adventure                  -0.084458              0.012054   \n",
       "Mystery & Suspense                  -0.067935             -0.003718   \n",
       "Art House & International            0.118990             -0.001471   \n",
       "Horror                              -0.106353              0.054666   \n",
       "Documentary                          0.175740             -0.049327   \n",
       "Romance                             -0.014757              0.031383   \n",
       "Science Fiction & Fantasy           -0.035142              0.009340   \n",
       "Classics                             0.094704              0.407966   \n",
       "Special Interest                     0.115151             -0.054215   \n",
       "Kids & Family                       -0.034436             -0.000228   \n",
       "Musical & Performing Arts            0.050459              0.041845   \n",
       "\n",
       "                           encoded_on_streaming_date     Drama    Comedy  \\\n",
       "runtime_in_minutes                          0.044185  0.193026 -0.077236   \n",
       "tomatometer_rating                         -0.031885  0.101860 -0.138263   \n",
       "tomatometer_count                          -0.123677  0.039136  0.010688   \n",
       "audience_rating                             0.088392  0.140569 -0.075872   \n",
       "rating                                     -0.061879 -0.115508 -0.036070   \n",
       "directors                                  -0.011959 -0.005837  0.039595   \n",
       "writers                                    -0.019883 -0.010837  0.014196   \n",
       "studio_name                                 0.079873  0.003372  0.024748   \n",
       "tomatometer_status                         -0.053661  0.089652 -0.103232   \n",
       "encoded_release_year                        0.032915 -0.012418 -0.034334   \n",
       "encoded_on_streaming_date                   1.000000  0.066204  0.112084   \n",
       "Drama                                       0.066204  1.000000 -0.169286   \n",
       "Comedy                                      0.112084 -0.169286  1.000000   \n",
       "Action & Adventure                          0.060719 -0.058810 -0.106998   \n",
       "Mystery & Suspense                          0.021986  0.071903 -0.242378   \n",
       "Art House & International                   0.073002  0.165928 -0.037278   \n",
       "Horror                                      0.013002 -0.212924 -0.147931   \n",
       "Documentary                                -0.079786 -0.292534 -0.203486   \n",
       "Romance                                     0.076791  0.113558  0.151974   \n",
       "Science Fiction & Fantasy                   0.037944 -0.143994 -0.052968   \n",
       "Classics                                    0.184046  0.086443 -0.024702   \n",
       "Special Interest                            0.032548 -0.180905 -0.135291   \n",
       "Kids & Family                               0.063972 -0.152603  0.098312   \n",
       "Musical & Performing Arts                   0.073429 -0.072075  0.008280   \n",
       "\n",
       "                           Action & Adventure  Mystery & Suspense  \\\n",
       "runtime_in_minutes                   0.086968            0.034508   \n",
       "tomatometer_rating                  -0.114001           -0.091669   \n",
       "tomatometer_count                    0.116880            0.026780   \n",
       "audience_rating                     -0.069749           -0.158211   \n",
       "rating                              -0.059003           -0.181421   \n",
       "directors                           -0.004038           -0.058786   \n",
       "writers                             -0.001505           -0.018276   \n",
       "studio_name                          0.072595            0.029438   \n",
       "tomatometer_status                  -0.084458           -0.067935   \n",
       "encoded_release_year                 0.012054           -0.003718   \n",
       "encoded_on_streaming_date            0.060719            0.021986   \n",
       "Drama                               -0.058810            0.071903   \n",
       "Comedy                              -0.106998           -0.242378   \n",
       "Action & Adventure                   1.000000            0.111893   \n",
       "Mystery & Suspense                   0.111893            1.000000   \n",
       "Art House & International           -0.032969           -0.023905   \n",
       "Horror                              -0.072180            0.194868   \n",
       "Documentary                         -0.156178           -0.167151   \n",
       "Romance                             -0.098170           -0.105102   \n",
       "Science Fiction & Fantasy            0.205282            0.011627   \n",
       "Classics                             0.032556            0.003146   \n",
       "Special Interest                    -0.118056           -0.114278   \n",
       "Kids & Family                        0.085509           -0.111632   \n",
       "Musical & Performing Arts           -0.091192           -0.107945   \n",
       "\n",
       "                           Art House & International    Horror  Documentary  \\\n",
       "runtime_in_minutes                          0.051612 -0.095678    -0.141158   \n",
       "tomatometer_rating                          0.150865 -0.120412     0.250627   \n",
       "tomatometer_count                          -0.102924 -0.059900    -0.118988   \n",
       "audience_rating                             0.124183 -0.246939     0.215934   \n",
       "rating                                      0.063338 -0.117429     0.223835   \n",
       "directors                                   0.001068 -0.005828    -0.001818   \n",
       "writers                                    -0.010837  0.004888     0.016808   \n",
       "studio_name                                -0.074212  0.015353    -0.070157   \n",
       "tomatometer_status                          0.118990 -0.106353     0.175740   \n",
       "encoded_release_year                       -0.001471  0.054666    -0.049327   \n",
       "encoded_on_streaming_date                   0.073002  0.013002    -0.079786   \n",
       "Drama                                       0.165928 -0.212924    -0.292534   \n",
       "Comedy                                     -0.037278 -0.147931    -0.203486   \n",
       "Action & Adventure                         -0.032969 -0.072180    -0.156178   \n",
       "Mystery & Suspense                         -0.023905  0.194868    -0.167151   \n",
       "Art House & International                   1.000000 -0.026807    -0.052525   \n",
       "Horror                                     -0.026807  1.000000    -0.119234   \n",
       "Documentary                                -0.052525 -0.119234     1.000000   \n",
       "Romance                                     0.013733 -0.099831    -0.115494   \n",
       "Science Fiction & Fantasy                  -0.042533  0.125466    -0.114570   \n",
       "Classics                                   -0.038387 -0.011279    -0.097559   \n",
       "Special Interest                           -0.004236 -0.077399     0.636119   \n",
       "Kids & Family                              -0.071361 -0.083215    -0.068690   \n",
       "Musical & Performing Arts                  -0.027761 -0.070540     0.205058   \n",
       "\n",
       "                            Romance  Science Fiction & Fantasy  Classics  \\\n",
       "runtime_in_minutes         0.077359                   0.004140  0.081153   \n",
       "tomatometer_rating         0.003843                  -0.061279  0.215417   \n",
       "tomatometer_count         -0.000582                   0.125791 -0.171419   \n",
       "audience_rating            0.053345                  -0.071565  0.174086   \n",
       "rating                     0.009011                   0.043947  0.272953   \n",
       "directors                  0.014729                   0.019102 -0.089874   \n",
       "writers                    0.019491                  -0.001308 -0.004403   \n",
       "studio_name                0.016652                   0.049558  0.034638   \n",
       "tomatometer_status        -0.014757                  -0.035142  0.094704   \n",
       "encoded_release_year       0.031383                   0.009340  0.407966   \n",
       "encoded_on_streaming_date  0.076791                   0.037944  0.184046   \n",
       "Drama                      0.113558                  -0.143994  0.086443   \n",
       "Comedy                     0.151974                  -0.052968 -0.024702   \n",
       "Action & Adventure        -0.098170                   0.205282  0.032556   \n",
       "Mystery & Suspense        -0.105102                   0.011627  0.003146   \n",
       "Art House & International  0.013733                  -0.042533 -0.038387   \n",
       "Horror                    -0.099831                   0.125466 -0.011279   \n",
       "Documentary               -0.115494                  -0.114570 -0.097559   \n",
       "Romance                    1.000000                  -0.046846  0.105061   \n",
       "Science Fiction & Fantasy -0.046846                   1.000000 -0.000207   \n",
       "Classics                   0.105061                  -0.000207  1.000000   \n",
       "Special Interest          -0.076455                  -0.068199 -0.064339   \n",
       "Kids & Family             -0.054183                   0.143183 -0.012680   \n",
       "Musical & Performing Arts  0.058615                  -0.036139  0.073134   \n",
       "\n",
       "                           Special Interest  Kids & Family  \\\n",
       "runtime_in_minutes                -0.102848      -0.086437   \n",
       "tomatometer_rating                 0.168109      -0.048667   \n",
       "tomatometer_count                 -0.087180       0.032460   \n",
       "audience_rating                    0.156507      -0.005485   \n",
       "rating                             0.146171       0.286264   \n",
       "directors                         -0.002621       0.007675   \n",
       "writers                            0.005597      -0.008556   \n",
       "studio_name                       -0.046648       0.022522   \n",
       "tomatometer_status                 0.115151      -0.034436   \n",
       "encoded_release_year              -0.054215      -0.000228   \n",
       "encoded_on_streaming_date          0.032548       0.063972   \n",
       "Drama                             -0.180905      -0.152603   \n",
       "Comedy                            -0.135291       0.098312   \n",
       "Action & Adventure                -0.118056       0.085509   \n",
       "Mystery & Suspense                -0.114278      -0.111632   \n",
       "Art House & International         -0.004236      -0.071361   \n",
       "Horror                            -0.077399      -0.083215   \n",
       "Documentary                        0.636119      -0.068690   \n",
       "Romance                           -0.076455      -0.054183   \n",
       "Science Fiction & Fantasy         -0.068199       0.143183   \n",
       "Classics                          -0.064339      -0.012680   \n",
       "Special Interest                   1.000000      -0.046826   \n",
       "Kids & Family                     -0.046826       1.000000   \n",
       "Musical & Performing Arts          0.103688       0.027659   \n",
       "\n",
       "                           Musical & Performing Arts  \n",
       "runtime_in_minutes                          0.003322  \n",
       "tomatometer_rating                          0.095091  \n",
       "tomatometer_count                          -0.059218  \n",
       "audience_rating                             0.128590  \n",
       "rating                                      0.133608  \n",
       "directors                                  -0.003062  \n",
       "writers                                    -0.002422  \n",
       "studio_name                                 0.000393  \n",
       "tomatometer_status                          0.050459  \n",
       "encoded_release_year                        0.041845  \n",
       "encoded_on_streaming_date                   0.073429  \n",
       "Drama                                      -0.072075  \n",
       "Comedy                                      0.008280  \n",
       "Action & Adventure                         -0.091192  \n",
       "Mystery & Suspense                         -0.107945  \n",
       "Art House & International                  -0.027761  \n",
       "Horror                                     -0.070540  \n",
       "Documentary                                 0.205058  \n",
       "Romance                                     0.058615  \n",
       "Science Fiction & Fantasy                  -0.036139  \n",
       "Classics                                    0.073134  \n",
       "Special Interest                            0.103688  \n",
       "Kids & Family                               0.027659  \n",
       "Musical & Performing Arts                   1.000000  "
      ]
     },
     "execution_count": 90,
     "metadata": {},
     "output_type": "execute_result"
    }
   ],
   "source": [
    "df_n.corr()"
   ]
  },
  {
   "cell_type": "markdown",
   "id": "d9979254-1fd6-4bd3-bab1-8ec47a16be73",
   "metadata": {},
   "source": [
    "#Directors,writers,studio_name columns are removed because there is possibility of addition of upcoming/new directors,writers,studio_name in the features. When these features are included by label/mean encoding it leads to overfitting of data."
   ]
  },
  {
   "cell_type": "code",
   "execution_count": 92,
   "id": "13583d61-98a1-4bce-847a-7b4f24022d2a",
   "metadata": {},
   "outputs": [
    {
     "data": {
      "text/html": [
       "<div>\n",
       "<style scoped>\n",
       "    .dataframe tbody tr th:only-of-type {\n",
       "        vertical-align: middle;\n",
       "    }\n",
       "\n",
       "    .dataframe tbody tr th {\n",
       "        vertical-align: top;\n",
       "    }\n",
       "\n",
       "    .dataframe thead th {\n",
       "        text-align: right;\n",
       "    }\n",
       "</style>\n",
       "<table border=\"1\" class=\"dataframe\">\n",
       "  <thead>\n",
       "    <tr style=\"text-align: right;\">\n",
       "      <th></th>\n",
       "      <th>runtime_in_minutes</th>\n",
       "      <th>tomatometer_rating</th>\n",
       "      <th>tomatometer_count</th>\n",
       "      <th>rating</th>\n",
       "      <th>tomatometer_status</th>\n",
       "      <th>encoded_release_year</th>\n",
       "      <th>encoded_on_streaming_date</th>\n",
       "      <th>Drama</th>\n",
       "      <th>Comedy</th>\n",
       "      <th>Action &amp; Adventure</th>\n",
       "      <th>Mystery &amp; Suspense</th>\n",
       "      <th>Art House &amp; International</th>\n",
       "      <th>Horror</th>\n",
       "      <th>Documentary</th>\n",
       "      <th>Romance</th>\n",
       "      <th>Science Fiction &amp; Fantasy</th>\n",
       "      <th>Classics</th>\n",
       "      <th>Special Interest</th>\n",
       "      <th>Kids &amp; Family</th>\n",
       "      <th>Musical &amp; Performing Arts</th>\n",
       "    </tr>\n",
       "  </thead>\n",
       "  <tbody>\n",
       "    <tr>\n",
       "      <th>0</th>\n",
       "      <td>83.0</td>\n",
       "      <td>49</td>\n",
       "      <td>144</td>\n",
       "      <td>62.69</td>\n",
       "      <td>0.0</td>\n",
       "      <td>0</td>\n",
       "      <td>1</td>\n",
       "      <td>1</td>\n",
       "      <td>1</td>\n",
       "      <td>1</td>\n",
       "      <td>0</td>\n",
       "      <td>0</td>\n",
       "      <td>0</td>\n",
       "      <td>0</td>\n",
       "      <td>0</td>\n",
       "      <td>1</td>\n",
       "      <td>0</td>\n",
       "      <td>0</td>\n",
       "      <td>0</td>\n",
       "      <td>0</td>\n",
       "    </tr>\n",
       "    <tr>\n",
       "      <th>1</th>\n",
       "      <td>90.0</td>\n",
       "      <td>86</td>\n",
       "      <td>140</td>\n",
       "      <td>56.72</td>\n",
       "      <td>2.0</td>\n",
       "      <td>0</td>\n",
       "      <td>1</td>\n",
       "      <td>0</td>\n",
       "      <td>1</td>\n",
       "      <td>0</td>\n",
       "      <td>0</td>\n",
       "      <td>0</td>\n",
       "      <td>0</td>\n",
       "      <td>0</td>\n",
       "      <td>0</td>\n",
       "      <td>0</td>\n",
       "      <td>0</td>\n",
       "      <td>0</td>\n",
       "      <td>0</td>\n",
       "      <td>0</td>\n",
       "    </tr>\n",
       "  </tbody>\n",
       "</table>\n",
       "</div>"
      ],
      "text/plain": [
       "   runtime_in_minutes  tomatometer_rating  tomatometer_count  rating  \\\n",
       "0                83.0                  49                144   62.69   \n",
       "1                90.0                  86                140   56.72   \n",
       "\n",
       "   tomatometer_status  encoded_release_year  encoded_on_streaming_date  Drama  \\\n",
       "0                 0.0                     0                          1      1   \n",
       "1                 2.0                     0                          1      0   \n",
       "\n",
       "   Comedy  Action & Adventure  Mystery & Suspense  Art House & International  \\\n",
       "0       1                   1                   0                          0   \n",
       "1       1                   0                   0                          0   \n",
       "\n",
       "   Horror  Documentary  Romance  Science Fiction & Fantasy  Classics  \\\n",
       "0       0            0        0                          1         0   \n",
       "1       0            0        0                          0         0   \n",
       "\n",
       "   Special Interest  Kids & Family  Musical & Performing Arts  \n",
       "0                 0              0                          0  \n",
       "1                 0              0                          0  "
      ]
     },
     "execution_count": 92,
     "metadata": {},
     "output_type": "execute_result"
    }
   ],
   "source": [
    "x=df_n.drop(['directors','writers','studio_name','audience_rating'],axis=1)\n",
    "df_final=x\n",
    "x.head(2)"
   ]
  },
  {
   "cell_type": "code",
   "execution_count": 93,
   "id": "a9a54fca-d47b-42f0-b666-a398698aaf79",
   "metadata": {},
   "outputs": [],
   "source": [
    "y=df_n['audience_rating']"
   ]
  },
  {
   "cell_type": "markdown",
   "id": "8a04bf60-cf9b-400a-9ef3-ce976824a0fe",
   "metadata": {},
   "source": [
    "# Split the Data into Training and Testing Dataset"
   ]
  },
  {
   "cell_type": "markdown",
   "id": "c1b099e8-03af-4f5a-b926-d4328d4f8681",
   "metadata": {},
   "source": [
    "#Split the Data into Training (80%) and Testing(20%) Dataset"
   ]
  },
  {
   "cell_type": "code",
   "execution_count": 96,
   "id": "5d3fef33-357f-4726-8976-6b879a7e8127",
   "metadata": {},
   "outputs": [],
   "source": [
    "from sklearn.model_selection import train_test_split\n",
    "x_train,x_test,y_train,y_test= train_test_split(x ,y, test_size=0.20,random_state=0)"
   ]
  },
  {
   "cell_type": "markdown",
   "id": "dd9ab064-8d33-4bb9-90e1-81f86644749a",
   "metadata": {},
   "source": [
    "# Normalise the model using MinMaxScaler"
   ]
  },
  {
   "cell_type": "code",
   "execution_count": 98,
   "id": "bb203ea1-6e33-40ff-b803-c7daa87a0d4d",
   "metadata": {},
   "outputs": [],
   "source": [
    "from sklearn.preprocessing import MinMaxScaler\n",
    "scaler = MinMaxScaler()\n",
    "x_train_scaled = scaler.fit_transform(x_train)  # Fit and transform training data\n",
    "x_test_scaled = scaler.transform(x_test)"
   ]
  },
  {
   "cell_type": "markdown",
   "id": "9a415e99-c58d-4c46-8274-654a4cacebac",
   "metadata": {},
   "source": [
    "# Feature Selection by SelectKBest"
   ]
  },
  {
   "cell_type": "code",
   "execution_count": 100,
   "id": "ff2d6451-9cad-4a13-bffe-5053a19d5545",
   "metadata": {},
   "outputs": [
    {
     "data": {
      "text/plain": [
       "(12714, 15)"
      ]
     },
     "execution_count": 100,
     "metadata": {},
     "output_type": "execute_result"
    }
   ],
   "source": [
    "from sklearn.feature_selection import SelectKBest\n",
    "from sklearn.feature_selection import f_classif\n",
    "fe = SelectKBest(f_classif, k=15)\n",
    "X_new=fe.fit_transform(x_train_scaled, y_train)\n",
    "X_test=fe.transform(x_test_scaled)\n",
    "\n",
    "X_new.shape"
   ]
  },
  {
   "cell_type": "markdown",
   "id": "cacce660-dc10-461d-98ce-a38948d3251f",
   "metadata": {},
   "source": [
    "# Building and Training the Model"
   ]
  },
  {
   "cell_type": "code",
   "execution_count": 102,
   "id": "77f4e510-03df-4ed6-ac12-a9378a660213",
   "metadata": {},
   "outputs": [],
   "source": [
    "x_train_selected_fe=X_new\n",
    "x_test_selected_fe=X_test"
   ]
  },
  {
   "cell_type": "markdown",
   "id": "955f837e-6ea8-47c1-9bf0-f48430aad48a",
   "metadata": {},
   "source": [
    "Experimented with other models, given are the following models and their MAE:\n",
    "#DecisionTreeRegressor-MAE:15.9\n",
    "#RandomForestRegressor-MAE:11.7 \n",
    "#KNeighborsRegressor after finding out optimal K(11)- MAE-11.5\n",
    "#GradientBoostingRegressor without any hyperparameter tuning-MAE-11.3 \n",
    "#XGBoost with yperparameter tuning-MAE-12.9"
   ]
  },
  {
   "cell_type": "markdown",
   "id": "1f9c26cd-c386-4e1c-9d13-f9c9460c46b0",
   "metadata": {},
   "source": [
    "# RandomizedSearchCV -GradientBoostingRegressor"
   ]
  },
  {
   "cell_type": "markdown",
   "id": "68a94a7f-a497-4f48-afbc-9352f9bb8f06",
   "metadata": {},
   "source": [
    "from sklearn.model_selection import RandomizedSearchCV \n",
    "from sklearn.ensemble import GradientBoostingRegressor\n",
    "import numpy as np\n",
    "\n",
    "  \n",
    "#Define the hyperparameters and their distributions \n",
    "param_distributions = { \n",
    "    'min_samples_leaf':np.arange(5, 50, 5) , \n",
    "    'max_depth':np.arange(5, 50, 5),\n",
    "    'learning_rate': np.linspace(0.01, 0.2, 10),\n",
    "    'min_samples_split':np.arange(5, 50, 5),\n",
    "    'n_estimators':[50, 100, 150]\n",
    "    \n",
    "} \n",
    "  \n",
    "#Create a model \n",
    "model =GradientBoostingRegressor (random_state=231) \n",
    "  \n",
    "#Use randomized search to find the optimal hyperparameters \n",
    "random_search = RandomizedSearchCV(model, \n",
    "                                   param_distributions) \n",
    "random_search.fit(x_train_selected_fe, y_train) \n",
    "  \n",
    "#Print the optimal values for the hyperparameters \n",
    "print(random_search.best_params_) "
   ]
  },
  {
   "cell_type": "code",
   "execution_count": 106,
   "id": "66ff5b96-2395-4c22-95bd-c5075040b569",
   "metadata": {},
   "outputs": [
    {
     "name": "stdout",
     "output_type": "stream",
     "text": [
      "mae score: 10.560261248910852\n"
     ]
    }
   ],
   "source": [
    "from sklearn.ensemble import GradientBoostingRegressor\n",
    "from sklearn.metrics import mean_absolute_error,mean_squared_error\n",
    "Param={'n_estimators': 150, 'min_samples_split': 25, 'min_samples_leaf': 10, 'max_depth': 5, 'learning_rate': 0.09444444444444444}\n",
    "gb_regressor_rv = GradientBoostingRegressor(**Param, random_state=231)\n",
    "gb_regressor_rv.fit(x_train_selected_fe, y_train)\n",
    "gb_pred = gb_regressor_rv.predict(x_test_selected_fe)\n",
    "mae_gb_rv = mean_absolute_error(y_test, gb_pred)\n",
    "print(f'mae score: {mae_gb_rv}')"
   ]
  },
  {
   "cell_type": "markdown",
   "id": "025a9a71-b3b8-4596-9785-17efc6251cd7",
   "metadata": {},
   "source": [
    "# Definition and Declaration of pipeline"
   ]
  },
  {
   "cell_type": "code",
   "execution_count": 108,
   "id": "49c9a3b2-9394-4475-8288-5a359fdaf908",
   "metadata": {},
   "outputs": [],
   "source": [
    "from sklearn.pipeline import Pipeline\n",
    "pipeline = Pipeline([\n",
    "    ('MinMaxScaler', MinMaxScaler()),  # Step 1: Scale the data\n",
    "    ('feature_selector',SelectKBest(f_classif, k=15) ),  # Step 2: Select features using SelectKBest\n",
    "    ('model', GradientBoostingRegressor(n_estimators= 150, min_samples_split= 25, min_samples_leaf= 10, max_depth= 5, learning_rate= 0.09444444444444444, random_state=231))  # Step 3: Train the  model\n",
    "])"
   ]
  },
  {
   "cell_type": "code",
   "execution_count": 109,
   "id": "d3c7c480-1436-445d-91ac-b6df06adb9da",
   "metadata": {},
   "outputs": [
    {
     "name": "stdout",
     "output_type": "stream",
     "text": [
      "Root Mean Squared Error (RMSE): 13.51109479030116\n",
      "MAE Score: 10.560261248910852\n"
     ]
    }
   ],
   "source": [
    "pipeline.fit(x_train, y_train)\n",
    "y_pred = pipeline.predict(x_test)\n",
    "\n",
    "# Evaluation Metrics\n",
    "rmse = np.sqrt(mean_squared_error(y_test, y_pred))\n",
    "mae = mean_absolute_error(y_test, y_pred)\n",
    "\n",
    "print(f\"Root Mean Squared Error (RMSE): {rmse}\")\n",
    "print(f\"MAE Score: {mae}\")"
   ]
  },
  {
   "cell_type": "markdown",
   "id": "f65bcfb4-b675-479a-98e4-f5af371e897a",
   "metadata": {},
   "source": [
    "# Evaluating the trained model with the test data set (test_val_df)"
   ]
  },
  {
   "cell_type": "code",
   "execution_count": 111,
   "id": "358026f2-ea16-4cdd-a416-1c2f9f24f46c",
   "metadata": {},
   "outputs": [],
   "source": [
    "numerical_features=[feature for feature in test_val_df.columns if test_val_df[feature].dtype=='float64' or test_val_df[feature].dtype=='int64']\n",
    "\n",
    "nulls=[i for i in test_val_df.columns if test_val_df[i].isnull().sum()>=1 and (test_val_df[i].dtypes=='float64' or test_val_df[i].dtype=='int64')]\n",
    "nulls\n",
    "\n",
    "def replace_feature(test_val_df,nulls):\n",
    "    test_val_df[nulls]=test_val_df[nulls].fillna(df['runtime_in_minutes'].median())\n",
    "    return test_val_df\n",
    "test_val_df=replace_feature(test_val_df,nulls) "
   ]
  },
  {
   "cell_type": "code",
   "execution_count": 112,
   "id": "573f10f1-eb61-4196-886a-10b64dd50448",
   "metadata": {},
   "outputs": [],
   "source": [
    "categorical_features=[feature for feature in test_val_df.columns if test_val_df[feature].dtype=='object' and feature not in ('movie_title','movie_info','critics_consensus','cast')]\n",
    "categorical_features\n",
    "\n",
    "def replace(test_val_df,cat_nulls):\n",
    "    test_val_df[cat_nulls]=test_val_df[cat_nulls].fillna('Missing')\n",
    "    return test_val_df\n",
    "test_val_df=replace(test_val_df,cat_nulls) \n",
    "num_t=test_val_df[numerical_features]\n",
    "cat_t=test_val_df[categorical_features]\n",
    "test_val_dff=pd.concat([num_t,cat_t],axis=1)"
   ]
  },
  {
   "cell_type": "code",
   "execution_count": 113,
   "id": "cde83187-e458-40a5-a2fd-1cfd06cc98f4",
   "metadata": {},
   "outputs": [],
   "source": [
    "test_val_dff.replace('PG-13)','PG-13', inplace=True)\n",
    "test_val_dff.replace('R)','R', inplace=True)\n",
    "test_val_dff['rating']=test_val_dff['rating'].map(rating_mean)"
   ]
  },
  {
   "cell_type": "code",
   "execution_count": 114,
   "id": "1f5758b3-7643-4c14-97f8-facb72b04fa1",
   "metadata": {},
   "outputs": [],
   "source": [
    "test_val_dff['tomatometer_status'] = encoder_status.transform(test_val_dff[['tomatometer_status']])"
   ]
  },
  {
   "cell_type": "code",
   "execution_count": 115,
   "id": "2ac77306-33bf-43a4-bed2-421d97086d3e",
   "metadata": {},
   "outputs": [],
   "source": [
    "test_val_dft=test_val_df['genre'].str.split(',', expand=True)\n",
    "from collections import Counter\n",
    "d={}\n",
    "for i in test_val_dft.columns:\n",
    "    g=test_val_dft[i]\n",
    "    cg=Counter(g)\n",
    "    for k,v in cg.items():\n",
    "        k=str(k).strip()\n",
    "        if d.get(k):\n",
    "             d[k]+=v\n",
    "        else:\n",
    "            d[k]=v\n",
    "l={k:d[k] for k in sorted(d,key=lambda x:d[x],reverse=True)}\n",
    "l.pop('None')\n",
    "one_hot_test=list(l.keys())[:13]"
   ]
  },
  {
   "cell_type": "code",
   "execution_count": 116,
   "id": "216dcda6-f798-4d3f-9341-ff7b0125f6f1",
   "metadata": {},
   "outputs": [],
   "source": [
    "for i in one_hot_test:\n",
    "    test_val_df[i]=0 \n",
    "    \n",
    "def isgenrepresent(val, col):\n",
    "    if col.strip() in val:\n",
    "        return 1\n",
    "    else:\n",
    "        return 0\n",
    "    \n",
    "for i in one_hot_test:\n",
    "    test_val_df[i] = test_val_df.apply(lambda x: isgenrepresent(x.genre, i ), axis=1)"
   ]
  },
  {
   "cell_type": "code",
   "execution_count": 117,
   "id": "47dacd85-a513-4127-a3bd-25e29921143f",
   "metadata": {},
   "outputs": [],
   "source": [
    "test_val_df['in_theaters_date'] = pd.to_datetime(test_val_df['in_theaters_date'])\n",
    "test_val_df['on_streaming_date'] = pd.to_datetime(test_val_df['on_streaming_date'])\n",
    "\n",
    "test_val_df['in_theaters_date'] = test_val_df['in_theaters_date'].dt.year\n",
    "test_val_df['on_streaming_date'] = test_val_df['on_streaming_date'].dt.year\n",
    "\n",
    "current_year = pd.to_datetime('today').year\n",
    "\n",
    "test_val_df['years_since_theater_release'] = current_year - test_val_df['in_theaters_date']\n",
    "test_val_df['years_since_on_streaming_date'] = current_year - test_val_df['on_streaming_date']\n"
   ]
  },
  {
   "cell_type": "code",
   "execution_count": 118,
   "id": "cac3bb2f-b56d-4494-a32d-541fc2d3f6e8",
   "metadata": {},
   "outputs": [],
   "source": [
    "test_val_df['years_since_on_streaming'] = test_val_df['years_since_on_streaming_date'].apply(categorize_rating_a)\n",
    "test_val_df['years_since_theater_release'] = test_val_df['years_since_theater_release'].apply(categorize_rating_b) \n"
   ]
  },
  {
   "cell_type": "code",
   "execution_count": 119,
   "id": "61c36a0a-6ff5-4ec4-9e61-2e8495733678",
   "metadata": {},
   "outputs": [],
   "source": [
    "\n",
    "test_val_df['encoded_release_year'] = label_encoder_tr.fit_transform(test_val_df['years_since_theater_release'])\n",
    "test_val_df['encoded_on_streaming_date'] = label_encoder_os.fit_transform(test_val_df['years_since_on_streaming'])\n",
    "\n",
    "t_date=test_val_df[['encoded_release_year', 'encoded_on_streaming_date']]"
   ]
  },
  {
   "cell_type": "code",
   "execution_count": 120,
   "id": "0ced622e-8bb5-41d1-9490-e2fca653ca28",
   "metadata": {},
   "outputs": [],
   "source": [
    "test_val_dff.drop('genre',axis=1,inplace=True)\n",
    "one_hot_genre_t=test_val_df[one_hot]"
   ]
  },
  {
   "cell_type": "code",
   "execution_count": 121,
   "id": "6d088a31-2bd1-4bd2-9267-ab45c8d911bc",
   "metadata": {},
   "outputs": [],
   "source": [
    "test_val_df_n=pd.concat([test_val_dff,t_date,one_hot_genre_t],axis=1)"
   ]
  },
  {
   "cell_type": "code",
   "execution_count": 122,
   "id": "a62821bb-637c-425e-873c-8466b77046b5",
   "metadata": {},
   "outputs": [
    {
     "name": "stdout",
     "output_type": "stream",
     "text": [
      "mae score: 10.599717427380194\n",
      "Root Mean Squared Error (RMSE): 13.182929948069983\n"
     ]
    }
   ],
   "source": [
    "test_x=test_val_df_n.drop(['directors','writers','studio_name','audience_rating'],axis=1)\n",
    "test_y=test_val_df_n['audience_rating']\n",
    "\n",
    "from sklearn.ensemble import GradientBoostingRegressor\n",
    "from sklearn.metrics import mean_absolute_error,mean_squared_error\n",
    "\n",
    "gbt_pred = pipeline.predict(test_x)\n",
    "mae_gbt_rv = mean_absolute_error(test_y, gbt_pred)\n",
    "t_mse = mean_squared_error(test_y, gbt_pred)\n",
    "t_rmse = np.sqrt(t_mse)\n",
    "print(f'mae score: {mae_gbt_rv}')\n",
    "print(\"Root Mean Squared Error (RMSE):\", t_rmse)"
   ]
  },
  {
   "cell_type": "markdown",
   "id": "9364cbcb-efe0-46d2-b028-478e593c53d1",
   "metadata": {},
   "source": [
    "#Model evaluation with Train dataset showed MAE:10.56 and the trained model validated with Testing dataset showed MAE:10.59"
   ]
  }
 ],
 "metadata": {
  "kernelspec": {
   "display_name": "Python 3 (ipykernel)",
   "language": "python",
   "name": "python3"
  },
  "language_info": {
   "codemirror_mode": {
    "name": "ipython",
    "version": 3
   },
   "file_extension": ".py",
   "mimetype": "text/x-python",
   "name": "python",
   "nbconvert_exporter": "python",
   "pygments_lexer": "ipython3",
   "version": "3.12.4"
  }
 },
 "nbformat": 4,
 "nbformat_minor": 5
}
